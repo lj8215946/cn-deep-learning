{
 "cells": [
  {
   "cell_type": "markdown",
   "metadata": {},
   "source": [
    "# Sentiment Analysis with an RNN\n",
    "\n",
    "In this notebook, you'll implement a recurrent neural network that performs sentiment analysis. Using an RNN rather than a feedfoward network is more accurate since we can include information about the *sequence* of words. Here we'll use a dataset of movie reviews, accompanied by labels.\n",
    "\n",
    "The architecture for this network is shown below.\n",
    "\n",
    "<img src=\"assets/network_diagram.png\" width=400px>\n",
    "\n",
    "Here, we'll pass in words to an embedding layer. We need an embedding layer because we have tens of thousands of words, so we'll need a more efficient representation for our input data than one-hot encoded vectors. You should have seen this before from the word2vec lesson. You can actually train up an embedding with word2vec and use it here. But it's good enough to just have an embedding layer and let the network learn the embedding table on it's own.\n",
    "\n",
    "From the embedding layer, the new representations will be passed to LSTM cells. These will add recurrent connections to the network so we can include information about the sequence of words in the data. Finally, the LSTM cells will go to a sigmoid output layer here. We're using the sigmoid because we're trying to predict if this text has positive or negative sentiment. The output layer will just be a single unit then, with a sigmoid activation function.\n",
    "\n",
    "We don't care about the sigmoid outputs except for the very last one, we can ignore the rest. We'll calculate the cost from the output of the last step and the training label."
   ]
  },
  {
   "cell_type": "code",
   "execution_count": 1,
   "metadata": {},
   "outputs": [],
   "source": [
    "import numpy as np\n",
    "import tensorflow as tf"
   ]
  },
  {
   "cell_type": "code",
   "execution_count": 2,
   "metadata": {},
   "outputs": [],
   "source": [
    "with open('../sentiment-network/reviews.txt', 'r') as f:\n",
    "    reviews = f.read()\n",
    "with open('../sentiment-network/labels.txt', 'r') as f:\n",
    "    labels = f.read()"
   ]
  },
  {
   "cell_type": "code",
   "execution_count": 3,
   "metadata": {},
   "outputs": [
    {
     "data": {
      "text/plain": [
       "'bromwell high is a cartoon comedy . it ran at the same time as some other programs about school life  such as  teachers  . my   years in the teaching profession lead me to believe that bromwell high  s satire is much closer to reality than is  teachers  . the scramble to survive financially  the insightful students who can see right through their pathetic teachers  pomp  the pettiness of the whole situation  all remind me of the schools i knew and their students . when i saw the episode in which a student repeatedly tried to burn down the school  i immediately recalled . . . . . . . . . at . . . . . . . . . . high . a classic line inspector i  m here to sack one of your teachers . student welcome to bromwell high . i expect that many adults of my age think that bromwell high is far fetched . what a pity that it isn  t   \\nstory of a man who has unnatural feelings for a pig . starts out with a opening scene that is a terrific example of absurd comedy . a formal orchestra audience is turned into an insane  violent mob by the crazy chantings of it  s singers . unfortunately it stays absurd the whole time with no general narrative eventually making it just too off putting . even those from the era should be turned off . the cryptic dialogue would make shakespeare seem easy to a third grader . on a technical level it  s better than you might think with some good cinematography by future great vilmos zsigmond . future stars sally kirkland and frederic forrest can be seen briefly .  \\nhomelessness  or houselessness as george carlin stated  has been an issue for years but never a plan to help those on the street that were once considered human who did everything from going to school  work  or vote for the matter . most people think of the homeless as just a lost cause while worrying about things such as racism  the war on iraq  pressuring kids to succeed  technology  the elections  inflation  or worrying if they  ll be next to end up on the streets .  br    br   but what if y'"
      ]
     },
     "execution_count": 3,
     "metadata": {},
     "output_type": "execute_result"
    }
   ],
   "source": [
    "reviews[:2000]"
   ]
  },
  {
   "cell_type": "markdown",
   "metadata": {},
   "source": [
    "## Data preprocessing\n",
    "\n",
    "The first step when building a neural network model is getting your data into the proper form to feed into the network. Since we're using embedding layers, we'll need to encode each word with an integer. We'll also want to clean it up a bit.\n",
    "\n",
    "You can see an example of the reviews data above. We'll want to get rid of those periods. Also, you might notice that the reviews are delimited with newlines `\\n`. To deal with those, I'm going to split the text into each review using `\\n` as the delimiter. Then I can combined all the reviews back together into one big string.\n",
    "\n",
    "First, let's remove all punctuation. Then get all the text without the newlines and split it into individual words."
   ]
  },
  {
   "cell_type": "code",
   "execution_count": 4,
   "metadata": {},
   "outputs": [],
   "source": [
    "from string import punctuation\n",
    "all_text = ''.join([c for c in reviews if c not in punctuation])\n",
    "reviews = all_text.split('\\n')\n",
    "\n",
    "all_text = ' '.join(reviews)\n",
    "words = all_text.split()"
   ]
  },
  {
   "cell_type": "code",
   "execution_count": 5,
   "metadata": {},
   "outputs": [
    {
     "data": {
      "text/plain": [
       "'bromwell high is a cartoon comedy  it ran at the same time as some other programs about school life  such as  teachers   my   years in the teaching profession lead me to believe that bromwell high  s satire is much closer to reality than is  teachers   the scramble to survive financially  the insightful students who can see right through their pathetic teachers  pomp  the pettiness of the whole situation  all remind me of the schools i knew and their students  when i saw the episode in which a student repeatedly tried to burn down the school  i immediately recalled          at           high  a classic line inspector i  m here to sack one of your teachers  student welcome to bromwell high  i expect that many adults of my age think that bromwell high is far fetched  what a pity that it isn  t    story of a man who has unnatural feelings for a pig  starts out with a opening scene that is a terrific example of absurd comedy  a formal orchestra audience is turned into an insane  violent mob by the crazy chantings of it  s singers  unfortunately it stays absurd the whole time with no general narrative eventually making it just too off putting  even those from the era should be turned off  the cryptic dialogue would make shakespeare seem easy to a third grader  on a technical level it  s better than you might think with some good cinematography by future great vilmos zsigmond  future stars sally kirkland and frederic forrest can be seen briefly    homelessness  or houselessness as george carlin stated  has been an issue for years but never a plan to help those on the street that were once considered human who did everything from going to school  work  or vote for the matter  most people think of the homeless as just a lost cause while worrying about things such as racism  the war on iraq  pressuring kids to succeed  technology  the elections  inflation  or worrying if they  ll be next to end up on the streets   br    br   but what if you were given a bet to live on the st'"
      ]
     },
     "execution_count": 5,
     "metadata": {},
     "output_type": "execute_result"
    }
   ],
   "source": [
    "all_text[:2000]"
   ]
  },
  {
   "cell_type": "code",
   "execution_count": 6,
   "metadata": {},
   "outputs": [
    {
     "data": {
      "text/plain": [
       "['bromwell',\n",
       " 'high',\n",
       " 'is',\n",
       " 'a',\n",
       " 'cartoon',\n",
       " 'comedy',\n",
       " 'it',\n",
       " 'ran',\n",
       " 'at',\n",
       " 'the',\n",
       " 'same',\n",
       " 'time',\n",
       " 'as',\n",
       " 'some',\n",
       " 'other',\n",
       " 'programs',\n",
       " 'about',\n",
       " 'school',\n",
       " 'life',\n",
       " 'such',\n",
       " 'as',\n",
       " 'teachers',\n",
       " 'my',\n",
       " 'years',\n",
       " 'in',\n",
       " 'the',\n",
       " 'teaching',\n",
       " 'profession',\n",
       " 'lead',\n",
       " 'me',\n",
       " 'to',\n",
       " 'believe',\n",
       " 'that',\n",
       " 'bromwell',\n",
       " 'high',\n",
       " 's',\n",
       " 'satire',\n",
       " 'is',\n",
       " 'much',\n",
       " 'closer',\n",
       " 'to',\n",
       " 'reality',\n",
       " 'than',\n",
       " 'is',\n",
       " 'teachers',\n",
       " 'the',\n",
       " 'scramble',\n",
       " 'to',\n",
       " 'survive',\n",
       " 'financially',\n",
       " 'the',\n",
       " 'insightful',\n",
       " 'students',\n",
       " 'who',\n",
       " 'can',\n",
       " 'see',\n",
       " 'right',\n",
       " 'through',\n",
       " 'their',\n",
       " 'pathetic',\n",
       " 'teachers',\n",
       " 'pomp',\n",
       " 'the',\n",
       " 'pettiness',\n",
       " 'of',\n",
       " 'the',\n",
       " 'whole',\n",
       " 'situation',\n",
       " 'all',\n",
       " 'remind',\n",
       " 'me',\n",
       " 'of',\n",
       " 'the',\n",
       " 'schools',\n",
       " 'i',\n",
       " 'knew',\n",
       " 'and',\n",
       " 'their',\n",
       " 'students',\n",
       " 'when',\n",
       " 'i',\n",
       " 'saw',\n",
       " 'the',\n",
       " 'episode',\n",
       " 'in',\n",
       " 'which',\n",
       " 'a',\n",
       " 'student',\n",
       " 'repeatedly',\n",
       " 'tried',\n",
       " 'to',\n",
       " 'burn',\n",
       " 'down',\n",
       " 'the',\n",
       " 'school',\n",
       " 'i',\n",
       " 'immediately',\n",
       " 'recalled',\n",
       " 'at',\n",
       " 'high']"
      ]
     },
     "execution_count": 6,
     "metadata": {},
     "output_type": "execute_result"
    }
   ],
   "source": [
    "words[:100]"
   ]
  },
  {
   "cell_type": "markdown",
   "metadata": {},
   "source": [
    "### Encoding the words\n",
    "\n",
    "The embedding lookup requires that we pass in integers to our network. The easiest way to do this is to create dictionaries that map the words in the vocabulary to integers. Then we can convert each of our reviews into integers so they can be passed into the network.\n",
    "\n",
    "> **Exercise:** Now you're going to encode the words with integers. Build a dictionary that maps words to integers. Later we're going to pad our input vectors with zeros, so make sure the integers **start at 1, not 0**.\n",
    "> Also, convert the reviews to integers and store the reviews in a new list called `reviews_ints`. "
   ]
  },
  {
   "cell_type": "code",
   "execution_count": 7,
   "metadata": {},
   "outputs": [],
   "source": [
    "# Create vacab\n",
    "vocab = list(set(words))\n"
   ]
  },
  {
   "cell_type": "code",
   "execution_count": 8,
   "metadata": {},
   "outputs": [
    {
     "name": "stdout",
     "output_type": "stream",
     "text": [
      "10291\n",
      "66188\n",
      "50493\n"
     ]
    }
   ],
   "source": [
    "# Create your dictionary that maps vocab words to integers here\n",
    "vocab_to_int = {key : (value+1) for value,key in enumerate(vocab)}\n",
    "vocab_size = len(vocab)+1\n",
    "# print vocab_to_int\n",
    "print(vocab_to_int['is'])\n",
    "print(vocab_to_int['and'])\n",
    "print(vocab_to_int['are'])"
   ]
  },
  {
   "cell_type": "code",
   "execution_count": 10,
   "metadata": {},
   "outputs": [
    {
     "name": "stdout",
     "output_type": "stream",
     "text": [
      "bromwell high is a cartoon comedy  it ran at the same time as some other programs about school life  such as  teachers   my   years in the teaching profession lead me to believe that bromwell high  s satire is much closer to reality than is  teachers   the scramble to survive financially  the insightful students who can see right through their pathetic teachers  pomp  the pettiness of the whole situation  all remind me of the schools i knew and their students  when i saw the episode in which a student repeatedly tried to burn down the school  i immediately recalled          at           high  a classic line inspector i  m here to sack one of your teachers  student welcome to bromwell high  i expect that many adults of my age think that bromwell high is far fetched  what a pity that it isn  t   \n",
      "[62861, 29927, 10291, 10782, 69049, 37652, 11716, 41247, 47643, 56750, 66004, 8550, 60066, 28650, 42082, 21760, 24071, 19314, 14397, 56388, 60066, 6803, 39893, 6070, 39795, 56750, 59289, 26074, 56739, 69575, 67129, 28272, 27030, 62861, 29927, 17428, 38119, 10291, 5265, 16105, 67129, 19159, 31361, 10291, 6803, 56750, 64078, 67129, 71180, 44136, 56750, 3507, 67417, 17591, 59969, 63263, 26630, 61787, 31531, 18782, 6803, 41297, 56750, 17545, 71919, 56750, 34682, 27044, 3151, 7532, 69575, 71919, 56750, 20828, 33958, 15596, 66188, 31531, 67417, 44527, 33958, 32736, 56750, 70155, 39795, 50632, 10782, 56294, 13297, 14133, 67129, 51732, 24938, 56750, 19314, 33958, 53631, 54870, 47643, 29927, 10782, 43322, 65763, 25446, 33958, 10039, 69635, 67129, 5890, 62175, 71919, 24341, 6803, 56294, 42092, 67129, 62861, 29927, 33958, 71768, 27030, 14613, 41146, 71919, 39893, 37600, 14482, 27030, 62861, 29927, 10291, 23008, 60048, 4112, 10782, 19499, 27030, 11716, 39122, 66911]\n"
     ]
    }
   ],
   "source": [
    "# Convert the reviews to integers, same shape as reviews list, but with integers\n",
    "reviews_ints = []\n",
    "for review in reviews:\n",
    "    reviews_int = [vocab_to_int[key] for key in review.split() if key != ' ']\n",
    "    reviews_ints.append(reviews_int)\n",
    "\n",
    "\n",
    "# print reviews_ints\n",
    "print(reviews[0])\n",
    "print(reviews_ints[0])\n"
   ]
  },
  {
   "cell_type": "markdown",
   "metadata": {},
   "source": [
    "### Encoding the labels\n",
    "\n",
    "Our labels are \"positive\" or \"negative\". To use these labels in our network, we need to convert them to 0 and 1.\n",
    "\n",
    "> **Exercise:** Convert labels from `positive` and `negative` to 1 and 0, respectively."
   ]
  },
  {
   "cell_type": "code",
   "execution_count": 11,
   "metadata": {},
   "outputs": [
    {
     "data": {
      "text/plain": [
       "[1, 0, 1, 0, 1, 0, 1, 0, 1, 0]"
      ]
     },
     "execution_count": 11,
     "metadata": {},
     "output_type": "execute_result"
    }
   ],
   "source": [
    "# Convert labels to 1s and 0s for 'positive' and 'negative'\n",
    "labels = labels.split('\\n')\n",
    "labels = [(1 if label==\"positive\" else 0) for label in labels]\n",
    "\n",
    "labels[:10]"
   ]
  },
  {
   "cell_type": "markdown",
   "metadata": {},
   "source": [
    "If you built `labels` correctly, you should see the next output."
   ]
  },
  {
   "cell_type": "code",
   "execution_count": 12,
   "metadata": {},
   "outputs": [
    {
     "name": "stdout",
     "output_type": "stream",
     "text": [
      "Zero-length reviews: 1\n",
      "Maximum review length: 2514\n"
     ]
    }
   ],
   "source": [
    "from collections import Counter\n",
    "review_lens = Counter([len(x) for x in reviews_ints])\n",
    "print(\"Zero-length reviews: {}\".format(review_lens[0]))\n",
    "print(\"Maximum review length: {}\".format(max(review_lens)))"
   ]
  },
  {
   "cell_type": "markdown",
   "metadata": {},
   "source": [
    "Okay, a couple issues here. We seem to have one review with zero length. And, the maximum review length is way too many steps for our RNN. Let's truncate to 200 steps. For reviews shorter than 200, we'll pad with 0s. For reviews longer than 200, we can truncate them to the first 200 characters.\n",
    "\n",
    "> **Exercise:** First, remove the review with zero length from the `reviews_ints` list."
   ]
  },
  {
   "cell_type": "code",
   "execution_count": 13,
   "metadata": {},
   "outputs": [
    {
     "name": "stdout",
     "output_type": "stream",
     "text": [
      "25000 25000\n"
     ]
    }
   ],
   "source": [
    "# Filter out that review with 0 length\n",
    "remove_indexs = []\n",
    "for index,reviews_int in enumerate(reviews_ints):\n",
    "    if len(reviews_int) == 0:\n",
    "        remove_indexs.append(index)\n",
    "\n",
    "for i in sorted(remove_indexs, reverse=True):\n",
    "    del reviews_ints[i]\n",
    "    del labels[i]\n",
    "print(\"{} {}\".format(len(reviews_ints), len(labels)))\n",
    "\n"
   ]
  },
  {
   "cell_type": "markdown",
   "metadata": {},
   "source": [
    "> **Exercise:** Now, create an array `features` that contains the data we'll pass to the network. The data should come from `review_ints`, since we want to feed integers to the network. Each row should be 200 elements long. For reviews shorter than 200 words, left pad with 0s. That is, if the review is `['best', 'movie', 'ever']`, `[117, 18, 128]` as integers, the row will look like `[0, 0, 0, ..., 0, 117, 18, 128]`. For reviews longer than 200, use on the first 200 words as the feature vector.\n",
    "\n",
    "This isn't trivial and there are a bunch of ways to do this. But, if you're going to be building your own deep learning networks, you're going to have to get used to preparing your data.\n",
    "\n"
   ]
  },
  {
   "cell_type": "code",
   "execution_count": 14,
   "metadata": {},
   "outputs": [],
   "source": [
    "seq_len = 200\n",
    "features = []\n",
    "for index,reviews_int in enumerate(reviews_ints):\n",
    "    reviews_int_len = len(reviews_int)\n",
    "    if reviews_int_len >= seq_len:\n",
    "        features.append( reviews_int[:seq_len])\n",
    "    else:\n",
    "        list = ([0]*(seq_len-reviews_int_len))\n",
    "        list.extend(reviews_int)\n",
    "        features.append(list)\n",
    "\n",
    "features = np.array(features)\n",
    "labels = np.array(labels)"
   ]
  },
  {
   "cell_type": "markdown",
   "metadata": {},
   "source": [
    "If you build features correctly, it should look like that cell output below."
   ]
  },
  {
   "cell_type": "code",
   "execution_count": 15,
   "metadata": {},
   "outputs": [
    {
     "data": {
      "text/plain": [
       "array([[    0,     0,     0,     0,     0,     0,     0,     0,     0,\n",
       "            0,     0,     0,     0,     0,     0,     0,     0,     0,\n",
       "            0,     0,     0,     0,     0,     0,     0,     0,     0,\n",
       "            0,     0,     0,     0,     0,     0,     0,     0,     0,\n",
       "            0,     0,     0,     0,     0,     0,     0,     0,     0,\n",
       "            0,     0,     0,     0,     0,     0,     0,     0,     0,\n",
       "            0,     0,     0,     0,     0,     0, 62861, 29927, 10291,\n",
       "        10782, 69049, 37652, 11716, 41247, 47643, 56750, 66004,  8550,\n",
       "        60066, 28650, 42082, 21760, 24071, 19314, 14397, 56388, 60066,\n",
       "         6803, 39893,  6070, 39795, 56750, 59289, 26074, 56739, 69575,\n",
       "        67129, 28272, 27030, 62861, 29927, 17428, 38119, 10291,  5265,\n",
       "        16105],\n",
       "       [    0,     0,     0,     0,     0,     0,     0,     0,     0,\n",
       "            0,     0,     0,     0,     0,     0,     0,     0,     0,\n",
       "            0,     0,     0,     0,     0,     0,     0,     0,     0,\n",
       "            0,     0,     0,     0,     0,     0,     0,     0,     0,\n",
       "            0,     0,     0,     0,     0,     0,     0,     0,     0,\n",
       "            0,     0,     0,     0,     0,     0,     0,     0,     0,\n",
       "            0,     0,     0,     0,     0,     0,     0,     0,     0,\n",
       "            0,     0,     0,     0,     0,     0,     0,     0,     0,\n",
       "            0,     0,     0,     0,     0,     0,     0,     0,     0,\n",
       "            0,     0,     0,     0,     0, 15542, 71919, 10782,  4273,\n",
       "        17591, 66596, 10290, 14373, 36490, 10782, 10369, 52490, 46170,\n",
       "        31000],\n",
       "       [65534,  3273, 26314, 60066, 59844, 19465, 61801, 66596,  9372,\n",
       "        13093, 52171, 36490,  6070, 21103, 67527, 10782, 65426, 67129,\n",
       "        23196, 47983, 66772, 56750, 27991, 27030, 30526, 64571, 71044,\n",
       "        43856, 17591, 60304, 36599, 18652,  6178, 67129, 19314,  9333,\n",
       "         3273, 51015, 36490, 56750,  2982, 26506, 39465, 14482, 71919,\n",
       "        56750, 27696, 60066,  7350, 10782, 71737, 49879, 44878, 70584,\n",
       "        24071, 29774, 56388, 60066, 67179, 56750, 72931, 66772, 47089,\n",
       "        39869, 27149, 67129, 50612, 67910, 56750, 62936, 13991,  3273,\n",
       "        70584, 33836, 36611, 21020, 64500,  2541, 67129, 63117, 21003,\n",
       "        66772, 56750, 38539, 30181, 30181, 21103,  4112, 33836, 57872,\n",
       "        30526, 18022, 10782, 58428, 67129, 52833, 66772, 56750, 38539,\n",
       "        36490],\n",
       "       [28873, 52490, 60066, 10782, 30741, 41688,  7267,   620, 10291,\n",
       "        58361, 21003, 31000, 54350, 38987, 56388, 33380, 67129, 73286,\n",
       "        65015, 18949, 69682, 47301, 13526, 17591, 10291, 55915, 35185,\n",
       "        10782, 56293, 71919, 47228, 17428, 67129, 52654, 57056, 39795,\n",
       "        53612, 71919, 11716, 65662, 39114, 67129, 56750, 19969, 60066,\n",
       "        10782, 33732, 71825, 66772, 44112, 10291, 69682, 71306, 60832,\n",
       "        61402,  3025,  7806, 47351, 56750,  7267, 30795, 68041, 46738,\n",
       "        60066, 10160, 21103,  6362,  3805, 56750,   620, 10291,  2380,\n",
       "        35034, 41273, 56750, 31562, 73723, 65204, 71870, 31190, 52654,\n",
       "         8414, 13167, 17428, 21141, 13397, 38653, 44854, 59223,  5206,\n",
       "        17591, 29288, 56750,  3074,  1658, 46170, 31000,  6903, 28203,\n",
       "        36611],\n",
       "       [    0,     0,     0,     0,     0,     0,     0,     0,     0,\n",
       "            0,     0,     0,     0,     0,     0,     0,     0,     0,\n",
       "            0,     0,     0,     0,     0,     0,     0,     0,     0,\n",
       "            0,     0,     0,     0,     0,     0,     0,     0,     0,\n",
       "            0,     0,     0,     0,     0,     0,     0,     0,     0,\n",
       "            0,     0,     0,     0,     0, 53259, 66635, 44952, 41273,\n",
       "        67311, 48835, 51750, 62480, 56866, 24094, 58404, 33958, 49736,\n",
       "        61293, 71346, 66188,  5930, 61845, 39795, 48864, 54288, 50493,\n",
       "        65154, 67129, 53919, 56750, 59829, 66772, 14883, 10291, 10782,\n",
       "        43322, 60066, 34389, 60066, 56022, 39795, 13245, 36544, 56750,\n",
       "        40086, 66772, 65321, 10291, 71825,  8514, 71633, 65662, 39059,\n",
       "        71919],\n",
       "       [    0,     0,     0,     0,     0,     0,     0,     0,     0,\n",
       "            0,     0,     0,     0,     0,     0,     0,     0,     0,\n",
       "            0,     0,     0,     0,     0,     0,     0,     0,     0,\n",
       "            0,     0,     0,     0,     0,     0,     0,     0,     0,\n",
       "            0,     0,     0,     0,     0,     0,     0,     0,     0,\n",
       "            0,     0,     0,     0,     0,     0,     0,     0,     0,\n",
       "        10286, 20907, 41499, 36244, 33958, 63580, 66911, 57447, 39893,\n",
       "        37630, 66772, 47643, 33480, 60987, 66772, 56750, 33775, 71919,\n",
       "        56750,  8758, 36877, 10286, 51534, 11268, 67129, 38126, 71919,\n",
       "        67174, 44527, 58540, 55907, 56750, 20115, 31000,  7806,  8758,\n",
       "         4273,  5940, 56750, 72208, 61845, 12932, 48597, 60066, 65662,\n",
       "         7024],\n",
       "       [    0,     0,     0,     0,     0,     0,     0,     0,     0,\n",
       "            0,     0,     0,     0,     0,     0,     0,     0,     0,\n",
       "            0,     0,     0,     0,     0,     0,     0,     0,     0,\n",
       "            0,     0,     0,     0,     0,     0,     0,     0,     0,\n",
       "            0,     0,     0,     0,     0,     0,     0,     0,     0,\n",
       "            0,     0,     0,     0,     0,     0,     0,     0,     0,\n",
       "            0,     0,     0,     0,     0,     0,     0,     0,     0,\n",
       "            0,     0,     0,     0,     0,     0,     0,     0,     0,\n",
       "            0,     0,     0,     0, 10286, 10291, 51888, 56750, 26506,\n",
       "        48895, 20907,  7640, 56750, 52473, 69997, 34168, 38439, 41638,\n",
       "        11716, 11339, 73935, 31363, 10782, 66767, 36677, 71919, 65534,\n",
       "        71978],\n",
       "       [    0,     0,     0,     0,     0,     0,     0,     0,     0,\n",
       "            0,     0,     0,     0,     0,     0,     0,     0,     0,\n",
       "            0,     0,     0,     0,     0,     0,     0,     0,     0,\n",
       "            0,     0,     0,     0,     0,     0,     0,     0,     0,\n",
       "            0,     0,     0,     0,     0,     0,     0,     0,     0,\n",
       "            0,     0, 65214, 14211, 33958, 65058, 10286, 10291, 30728,\n",
       "        67129, 64500, 13093,  5816, 20907, 21103,  3691, 36611, 30413,\n",
       "        49736,  7107, 46170,  2009, 47643, 56750, 14506, 59471, 39465,\n",
       "        56712, 38463, 31531,  6784, 46170, 66188, 73935, 43237, 28819,\n",
       "        56750, 13074,  1330, 66188, 41453,  7959,  5063, 23349, 10286,\n",
       "        15542, 10291, 54614,  1195, 67129, 43237, 56750, 72554, 71919,\n",
       "        10782],\n",
       "       [    0,     0,     0,     0,     0,     0,     0,     0,     0,\n",
       "            0,     0,     0,     0,     0,     0,     0,     0,     0,\n",
       "            0,     0,     0,     0,     0,     0,     0,     0,     0,\n",
       "            0,     0,     0,     0,     0,     0,     0,     0,     0,\n",
       "            0,     0,     0,     0,     0,     0,     0,     0,     0,\n",
       "            0,     0,     0,     0,     0,     0,     0,     0,     0,\n",
       "            0,     0,     0,     0,     0,     0,     0,     0,     0,\n",
       "            0,     0,     0,     0,     0,     0,     0,     0,     0,\n",
       "            0,     0,     0,     0,     0,     0,     0, 10286, 10291,\n",
       "        73935, 56750, 15837,   750, 52473, 20907, 11716,  5063,  5265,\n",
       "        39775,  1137, 31361, 26506, 71919, 52654, 60726, 66188,  5305,\n",
       "        19724],\n",
       "       [44527, 33958,  5063, 55875, 39893, 60919, 35965, 69575, 14530,\n",
       "        67129, 56750, 67680, 67129, 63263, 60716, 11716,  5063, 62175,\n",
       "        71919, 14613, 60726, 33958, 22489, 31000, 39893, 60919, 21103,\n",
       "        10286,  5063, 56750, 16052, 62175,  3065,  8747, 46170, 71919,\n",
       "        51400, 13889, 33958, 19724, 67527, 71346, 60716,  5296,  7350,\n",
       "        28709, 66188, 33958, 56712, 49736, 23784, 46170, 56750, 41943,\n",
       "        71919, 39893, 14397, 53767, 11716,  4112, 10782, 23921, 31012,\n",
       "        66188,  4654, 48013, 15150, 71919, 17428, 68974, 66188, 73215,\n",
       "        73730, 61664, 19662, 10291, 62175, 71919, 39893, 19490, 17712,\n",
       "        21103, 60716, 10291, 41273, 23008, 56750, 56315, 15150, 71919,\n",
       "        29303, 71919, 52654, 40953, 39795, 56750, 67123, 30772, 71919,\n",
       "        63328]])"
      ]
     },
     "execution_count": 15,
     "metadata": {},
     "output_type": "execute_result"
    }
   ],
   "source": [
    "features[:10,:100]"
   ]
  },
  {
   "cell_type": "markdown",
   "metadata": {},
   "source": [
    "## Training, Validation, Test\n",
    "\n"
   ]
  },
  {
   "cell_type": "markdown",
   "metadata": {},
   "source": [
    "With our data in nice shape, we'll split it into training, validation, and test sets.\n",
    "\n",
    "> **Exercise:** Create the training, validation, and test sets here. You'll need to create sets for the features and the labels, `train_x` and `train_y` for example. Define a split fraction, `split_frac` as the fraction of data to keep in the training set. Usually this is set to 0.8 or 0.9. The rest of the data will be split in half to create the validation and testing data."
   ]
  },
  {
   "cell_type": "code",
   "execution_count": 16,
   "metadata": {},
   "outputs": [
    {
     "name": "stdout",
     "output_type": "stream",
     "text": [
      "\t\t\tFeature Shapes:\n",
      "Train set: \t\t(20000, 200) \n",
      "Validation set: \t(2500, 200) \n",
      "Test set: \t\t(2500, 200)\n"
     ]
    }
   ],
   "source": [
    "split_frac = 0.8\n",
    "from sklearn.model_selection import train_test_split\n",
    "\n",
    "train_x, val_x, train_y, val_y = train_test_split(features, labels, test_size=(1-split_frac))\n",
    "\n",
    "val_x, test_x, val_y, test_y = train_test_split(val_x, val_y, test_size=0.5)\n",
    "\n",
    "\n",
    "print(\"\\t\\t\\tFeature Shapes:\")\n",
    "print(\"Train set: \\t\\t{}\".format(train_x.shape), \n",
    "      \"\\nValidation set: \\t{}\".format(val_x.shape),\n",
    "      \"\\nTest set: \\t\\t{}\".format(test_x.shape))"
   ]
  },
  {
   "cell_type": "markdown",
   "metadata": {},
   "source": [
    "With train, validation, and text fractions of 0.8, 0.1, 0.1, the final shapes should look like:\n",
    "```\n",
    "                    Feature Shapes:\n",
    "Train set: \t\t (20000, 200) \n",
    "Validation set: \t(2500, 200) \n",
    "Test set: \t\t  (2500, 200)\n",
    "```"
   ]
  },
  {
   "cell_type": "markdown",
   "metadata": {},
   "source": [
    "## Build the graph\n",
    "\n",
    "Here, we'll build the graph. First up, defining the hyperparameters.\n",
    "\n",
    "* `lstm_size`: Number of units in the hidden layers in the LSTM cells. Usually larger is better performance wise. Common values are 128, 256, 512, etc.\n",
    "* `lstm_layers`: Number of LSTM layers in the network. I'd start with 1, then add more if I'm underfitting.\n",
    "* `batch_size`: The number of reviews to feed the network in one training pass. Typically this should be set as high as you can go without running out of memory.\n",
    "* `learning_rate`: Learning rate"
   ]
  },
  {
   "cell_type": "code",
   "execution_count": 17,
   "metadata": {},
   "outputs": [],
   "source": [
    "lstm_size = 256\n",
    "lstm_layers = 1\n",
    "batch_size = 500\n",
    "learning_rate = 0.001"
   ]
  },
  {
   "cell_type": "markdown",
   "metadata": {},
   "source": [
    "For the network itself, we'll be passing in our 200 element long review vectors. Each batch will be `batch_size` vectors. We'll also be using dropout on the LSTM layer, so we'll make a placeholder for the keep probability."
   ]
  },
  {
   "cell_type": "markdown",
   "metadata": {},
   "source": [
    "> **Exercise:** Create the `inputs_`, `labels_`, and drop out `keep_prob` placeholders using `tf.placeholder`. `labels_` needs to be two-dimensional to work with some functions later.  Since `keep_prob` is a scalar (a 0-dimensional tensor), you shouldn't provide a size to `tf.placeholder`."
   ]
  },
  {
   "cell_type": "code",
   "execution_count": 18,
   "metadata": {},
   "outputs": [],
   "source": [
    "n_words = len(vocab_to_int)\n",
    "\n",
    "# Create the graph object\n",
    "graph = tf.Graph()\n",
    "# Add nodes to the graph\n",
    "with graph.as_default():\n",
    "    inputs_ = tf.placeholder(tf.int32, [batch_size, seq_len], name=\"inputs\")\n",
    "    labels_ = tf.placeholder(tf.int32, [batch_size, 1], name=\"labels\")\n",
    "    keep_prob = tf.placeholder(tf.float32, name=\"keep_prob\")"
   ]
  },
  {
   "cell_type": "markdown",
   "metadata": {},
   "source": [
    "### Embedding\n",
    "\n",
    "Now we'll add an embedding layer. We need to do this because there are 74000 words in our vocabulary. It is massively inefficient to one-hot encode our classes here. You should remember dealing with this problem from the word2vec lesson. Instead of one-hot encoding, we can have an embedding layer and use that layer as a lookup table. You could train an embedding layer using word2vec, then load it here. But, it's fine to just make a new layer and let the network learn the weights.\n",
    "\n",
    "> **Exercise:** Create the embedding lookup matrix as a `tf.Variable`. Use that embedding matrix to get the embedded vectors to pass to the LSTM cell with [`tf.nn.embedding_lookup`](https://www.tensorflow.org/api_docs/python/tf/nn/embedding_lookup). This function takes the embedding matrix and an input tensor, such as the review vectors. Then, it'll return another tensor with the embedded vectors. So, if the embedding layer has 200 units, the function will return a tensor with size [batch_size, 200].\n",
    "\n"
   ]
  },
  {
   "cell_type": "code",
   "execution_count": 19,
   "metadata": {},
   "outputs": [],
   "source": [
    "# Size of the embedding vectors (number of units in the embedding layer)\n",
    "embed_size = 300 \n",
    "\n",
    "with graph.as_default():\n",
    "    embedding = tf.Variable(tf.truncated_normal([vocab_size ,embed_size]), name=\"embedding\")\n",
    "    embed = tf.nn.embedding_lookup( embedding, inputs_, name=\"embed\")"
   ]
  },
  {
   "cell_type": "markdown",
   "metadata": {},
   "source": [
    "### LSTM cell\n",
    "\n",
    "<img src=\"assets/network_diagram.png\" width=400px>\n",
    "\n",
    "Next, we'll create our LSTM cells to use in the recurrent network ([TensorFlow documentation](https://www.tensorflow.org/api_docs/python/tf/contrib/rnn)). Here we are just defining what the cells look like. This isn't actually building the graph, just defining the type of cells we want in our graph.\n",
    "\n",
    "To create a basic LSTM cell for the graph, you'll want to use `tf.contrib.rnn.BasicLSTMCell`. Looking at the function documentation:\n",
    "\n",
    "```\n",
    "tf.contrib.rnn.BasicLSTMCell(num_units, forget_bias=1.0, input_size=None, state_is_tuple=True, activation=<function tanh at 0x109f1ef28>)\n",
    "```\n",
    "\n",
    "you can see it takes a parameter called `num_units`, the number of units in the cell, called `lstm_size` in this code. So then, you can write something like \n",
    "\n",
    "```\n",
    "lstm = tf.contrib.rnn.BasicLSTMCell(num_units)\n",
    "```\n",
    "\n",
    "to create an LSTM cell with `num_units`. Next, you can add dropout to the cell with `tf.contrib.rnn.DropoutWrapper`. This just wraps the cell in another cell, but with dropout added to the inputs and/or outputs. It's a really convenient way to make your network better with almost no effort! So you'd do something like\n",
    "\n",
    "```\n",
    "drop = tf.contrib.rnn.DropoutWrapper(cell, output_keep_prob=keep_prob)\n",
    "```\n",
    "\n",
    "Most of the time, your network will have better performance with more layers. That's sort of the magic of deep learning, adding more layers allows the network to learn really complex relationships. Again, there is a simple way to create multiple layers of LSTM cells with `tf.contrib.rnn.MultiRNNCell`:\n",
    "\n",
    "```\n",
    "cell = tf.contrib.rnn.MultiRNNCell([drop] * lstm_layers)\n",
    "```\n",
    "\n",
    "Here, `[drop] * lstm_layers` creates a list of cells (`drop`) that is `lstm_layers` long. The `MultiRNNCell` wrapper builds this into multiple layers of RNN cells, one for each cell in the list.\n",
    "\n",
    "So the final cell you're using in the network is actually multiple (or just one) LSTM cells with dropout. But it all works the same from an achitectural viewpoint, just a more complicated graph in the cell.\n",
    "\n",
    "> **Exercise:** Below, use `tf.contrib.rnn.BasicLSTMCell` to create an LSTM cell. Then, add drop out to it with `tf.contrib.rnn.DropoutWrapper`. Finally, create multiple LSTM layers with `tf.contrib.rnn.MultiRNNCell`.\n",
    "\n",
    "Here is [a tutorial on building RNNs](https://www.tensorflow.org/tutorials/recurrent) that will help you out.\n"
   ]
  },
  {
   "cell_type": "code",
   "execution_count": 20,
   "metadata": {},
   "outputs": [],
   "source": [
    "with graph.as_default():\n",
    "    # Your basic LSTM cell\n",
    "    lstm = tf.contrib.rnn.BasicLSTMCell(lstm_size)\n",
    "    \n",
    "    # Add dropout to the cell\n",
    "    drop = tf.contrib.rnn.DropoutWrapper(lstm, output_keep_prob=keep_prob)\n",
    "    \n",
    "    # Stack up multiple LSTM layers, for deep learning\n",
    "    cell = tf.contrib.rnn.MultiRNNCell([lstm] * lstm_layers)\n",
    "    \n",
    "    # Getting an initial state of all zeros\n",
    "    initial_state = cell.zero_state(batch_size, tf.float32)"
   ]
  },
  {
   "cell_type": "markdown",
   "metadata": {},
   "source": [
    "### RNN forward pass\n",
    "\n",
    "<img src=\"assets/network_diagram.png\" width=400px>\n",
    "\n",
    "Now we need to actually run the data through the RNN nodes. You can use [`tf.nn.dynamic_rnn`](https://www.tensorflow.org/api_docs/python/tf/nn/dynamic_rnn) to do this. You'd pass in the RNN cell you created (our multiple layered LSTM `cell` for instance), and the inputs to the network.\n",
    "\n",
    "```\n",
    "outputs, final_state = tf.nn.dynamic_rnn(cell, inputs, initial_state=initial_state)\n",
    "```\n",
    "\n",
    "Above I created an initial state, `initial_state`, to pass to the RNN. This is the cell state that is passed between the hidden layers in successive time steps. `tf.nn.dynamic_rnn` takes care of most of the work for us. We pass in our cell and the input to the cell, then it does the unrolling and everything else for us. It returns outputs for each time step and the final_state of the hidden layer.\n",
    "\n",
    "> **Exercise:** Use `tf.nn.dynamic_rnn` to add the forward pass through the RNN. Remember that we're actually passing in vectors from the embedding layer, `embed`.\n",
    "\n"
   ]
  },
  {
   "cell_type": "code",
   "execution_count": 21,
   "metadata": {},
   "outputs": [],
   "source": [
    "with graph.as_default():\n",
    "    outputs, final_state = tf.nn.dynamic_rnn(cell, embed, initial_state=initial_state)"
   ]
  },
  {
   "cell_type": "markdown",
   "metadata": {},
   "source": [
    "### Output\n",
    "\n",
    "We only care about the final output, we'll be using that as our sentiment prediction. So we need to grab the last output with `outputs[:, -1]`, the calculate the cost from that and `labels_`."
   ]
  },
  {
   "cell_type": "code",
   "execution_count": 22,
   "metadata": {},
   "outputs": [],
   "source": [
    "with graph.as_default():\n",
    "    predictions = tf.contrib.layers.fully_connected(outputs[:, -1], 1, activation_fn=tf.sigmoid)\n",
    "    cost = tf.losses.mean_squared_error(labels_, predictions)\n",
    "    \n",
    "    optimizer = tf.train.AdamOptimizer(learning_rate).minimize(cost)"
   ]
  },
  {
   "cell_type": "markdown",
   "metadata": {},
   "source": [
    "### Validation accuracy\n",
    "\n",
    "Here we can add a few nodes to calculate the accuracy which we'll use in the validation pass."
   ]
  },
  {
   "cell_type": "code",
   "execution_count": 23,
   "metadata": {},
   "outputs": [],
   "source": [
    "with graph.as_default():\n",
    "    correct_pred = tf.equal(tf.cast(tf.round(predictions), tf.int32), labels_)\n",
    "    accuracy = tf.reduce_mean(tf.cast(correct_pred, tf.float32))"
   ]
  },
  {
   "cell_type": "markdown",
   "metadata": {},
   "source": [
    "### Batching\n",
    "\n",
    "This is a simple function for returning batches from our data. First it removes data such that we only have full batches. Then it iterates through the `x` and `y` arrays and returns slices out of those arrays with size `[batch_size]`."
   ]
  },
  {
   "cell_type": "code",
   "execution_count": 24,
   "metadata": {},
   "outputs": [],
   "source": [
    "def get_batches(x, y, batch_size=100):\n",
    "    \n",
    "    n_batches = len(x)//batch_size\n",
    "    x, y = x[:n_batches*batch_size], y[:n_batches*batch_size]\n",
    "    for ii in range(0, len(x), batch_size):\n",
    "        yield x[ii:ii+batch_size], y[ii:ii+batch_size]"
   ]
  },
  {
   "cell_type": "markdown",
   "metadata": {},
   "source": [
    "## Training\n",
    "\n",
    "Below is the typical training code. If you want to do this yourself, feel free to delete all this code and implement it yourself. Before you run this, make sure the `checkpoints` directory exists."
   ]
  },
  {
   "cell_type": "code",
   "execution_count": 25,
   "metadata": {},
   "outputs": [
    {
     "name": "stdout",
     "output_type": "stream",
     "text": [
      "Epoch: 0/10 Iteration: 5 Train loss: 0.244\n",
      "Epoch: 0/10 Iteration: 10 Train loss: 0.246\n",
      "Epoch: 0/10 Iteration: 15 Train loss: 0.225\n",
      "Epoch: 0/10 Iteration: 20 Train loss: 0.215\n",
      "Epoch: 0/10 Iteration: 25 Train loss: 0.193\n",
      "Val acc: 0.705\n",
      "Epoch: 0/10 Iteration: 30 Train loss: 0.177\n",
      "Epoch: 0/10 Iteration: 35 Train loss: 0.199\n",
      "Epoch: 0/10 Iteration: 40 Train loss: 0.170\n",
      "Epoch: 1/10 Iteration: 45 Train loss: 0.164\n",
      "Epoch: 1/10 Iteration: 50 Train loss: 0.147\n",
      "Val acc: 0.758\n",
      "Epoch: 1/10 Iteration: 55 Train loss: 0.145\n",
      "Epoch: 1/10 Iteration: 60 Train loss: 0.157\n",
      "Epoch: 1/10 Iteration: 65 Train loss: 0.146\n",
      "Epoch: 1/10 Iteration: 70 Train loss: 0.175\n",
      "Epoch: 1/10 Iteration: 75 Train loss: 0.148\n",
      "Val acc: 0.784\n",
      "Epoch: 1/10 Iteration: 80 Train loss: 0.121\n",
      "Epoch: 2/10 Iteration: 85 Train loss: 0.138\n",
      "Epoch: 2/10 Iteration: 90 Train loss: 0.116\n",
      "Epoch: 2/10 Iteration: 95 Train loss: 0.123\n",
      "Epoch: 2/10 Iteration: 100 Train loss: 0.129\n",
      "Val acc: 0.798\n",
      "Epoch: 2/10 Iteration: 105 Train loss: 0.108\n",
      "Epoch: 2/10 Iteration: 110 Train loss: 0.114\n",
      "Epoch: 2/10 Iteration: 115 Train loss: 0.111\n",
      "Epoch: 2/10 Iteration: 120 Train loss: 0.094\n",
      "Epoch: 3/10 Iteration: 125 Train loss: 0.101\n",
      "Val acc: 0.804\n",
      "Epoch: 3/10 Iteration: 130 Train loss: 0.086\n",
      "Epoch: 3/10 Iteration: 135 Train loss: 0.089\n",
      "Epoch: 3/10 Iteration: 140 Train loss: 0.093\n",
      "Epoch: 3/10 Iteration: 145 Train loss: 0.079\n",
      "Epoch: 3/10 Iteration: 150 Train loss: 0.085\n",
      "Val acc: 0.807\n",
      "Epoch: 3/10 Iteration: 155 Train loss: 0.073\n",
      "Epoch: 3/10 Iteration: 160 Train loss: 0.067\n",
      "Epoch: 4/10 Iteration: 165 Train loss: 0.084\n",
      "Epoch: 4/10 Iteration: 170 Train loss: 0.065\n",
      "Epoch: 4/10 Iteration: 175 Train loss: 0.083\n",
      "Val acc: 0.819\n",
      "Epoch: 4/10 Iteration: 180 Train loss: 0.083\n",
      "Epoch: 4/10 Iteration: 185 Train loss: 0.065\n",
      "Epoch: 4/10 Iteration: 190 Train loss: 0.076\n",
      "Epoch: 4/10 Iteration: 195 Train loss: 0.133\n",
      "Epoch: 4/10 Iteration: 200 Train loss: 0.093\n",
      "Val acc: 0.772\n",
      "Epoch: 5/10 Iteration: 205 Train loss: 0.084\n",
      "Epoch: 5/10 Iteration: 210 Train loss: 0.072\n",
      "Epoch: 5/10 Iteration: 215 Train loss: 0.088\n",
      "Epoch: 5/10 Iteration: 220 Train loss: 0.060\n",
      "Epoch: 5/10 Iteration: 225 Train loss: 0.044\n",
      "Val acc: 0.818\n",
      "Epoch: 5/10 Iteration: 230 Train loss: 0.065\n",
      "Epoch: 5/10 Iteration: 235 Train loss: 0.052\n",
      "Epoch: 5/10 Iteration: 240 Train loss: 0.064\n",
      "Epoch: 6/10 Iteration: 245 Train loss: 0.065\n",
      "Epoch: 6/10 Iteration: 250 Train loss: 0.059\n",
      "Val acc: 0.829\n",
      "Epoch: 6/10 Iteration: 255 Train loss: 0.039\n",
      "Epoch: 6/10 Iteration: 260 Train loss: 0.047\n",
      "Epoch: 6/10 Iteration: 265 Train loss: 0.055\n",
      "Epoch: 6/10 Iteration: 270 Train loss: 0.040\n",
      "Epoch: 6/10 Iteration: 275 Train loss: 0.047\n",
      "Val acc: 0.834\n",
      "Epoch: 6/10 Iteration: 280 Train loss: 0.027\n",
      "Epoch: 7/10 Iteration: 285 Train loss: 0.045\n",
      "Epoch: 7/10 Iteration: 290 Train loss: 0.031\n",
      "Epoch: 7/10 Iteration: 295 Train loss: 0.044\n",
      "Epoch: 7/10 Iteration: 300 Train loss: 0.065\n",
      "Val acc: 0.827\n",
      "Epoch: 7/10 Iteration: 305 Train loss: 0.034\n",
      "Epoch: 7/10 Iteration: 310 Train loss: 0.032\n",
      "Epoch: 7/10 Iteration: 315 Train loss: 0.063\n",
      "Epoch: 7/10 Iteration: 320 Train loss: 0.059\n",
      "Epoch: 8/10 Iteration: 325 Train loss: 0.051\n",
      "Val acc: 0.792\n",
      "Epoch: 8/10 Iteration: 330 Train loss: 0.048\n",
      "Epoch: 8/10 Iteration: 335 Train loss: 0.042\n",
      "Epoch: 8/10 Iteration: 340 Train loss: 0.032\n",
      "Epoch: 8/10 Iteration: 345 Train loss: 0.025\n",
      "Epoch: 8/10 Iteration: 350 Train loss: 0.023\n",
      "Val acc: 0.826\n",
      "Epoch: 8/10 Iteration: 355 Train loss: 0.029\n",
      "Epoch: 8/10 Iteration: 360 Train loss: 0.021\n",
      "Epoch: 9/10 Iteration: 365 Train loss: 0.023\n",
      "Epoch: 9/10 Iteration: 370 Train loss: 0.016\n",
      "Epoch: 9/10 Iteration: 375 Train loss: 0.016\n",
      "Val acc: 0.831\n",
      "Epoch: 9/10 Iteration: 380 Train loss: 0.020\n",
      "Epoch: 9/10 Iteration: 385 Train loss: 0.029\n",
      "Epoch: 9/10 Iteration: 390 Train loss: 0.023\n",
      "Epoch: 9/10 Iteration: 395 Train loss: 0.030\n",
      "Epoch: 9/10 Iteration: 400 Train loss: 0.033\n",
      "Val acc: 0.794\n"
     ]
    }
   ],
   "source": [
    "epochs = 10\n",
    "\n",
    "with graph.as_default():\n",
    "    saver = tf.train.Saver()\n",
    "\n",
    "with tf.Session(graph=graph) as sess:\n",
    "    sess.run(tf.global_variables_initializer())\n",
    "    iteration = 1\n",
    "    for e in range(epochs):\n",
    "        state = sess.run(initial_state)\n",
    "        \n",
    "        for ii, (x, y) in enumerate(get_batches(train_x, train_y, batch_size), 1):\n",
    "            feed = {inputs_: x,\n",
    "                    labels_: y[:, None],\n",
    "                    keep_prob: 0.5,\n",
    "                    initial_state: state}\n",
    "            loss, state, _ = sess.run([cost, final_state, optimizer], feed_dict=feed)\n",
    "            \n",
    "            if iteration%5==0:\n",
    "                print(\"Epoch: {}/{}\".format(e, epochs),\n",
    "                      \"Iteration: {}\".format(iteration),\n",
    "                      \"Train loss: {:.3f}\".format(loss))\n",
    "\n",
    "            if iteration%25==0:\n",
    "                val_acc = []\n",
    "                val_state = sess.run(cell.zero_state(batch_size, tf.float32))\n",
    "                for x, y in get_batches(val_x, val_y, batch_size):\n",
    "                    feed = {inputs_: x,\n",
    "                            labels_: y[:, None],\n",
    "                            keep_prob: 1,\n",
    "                            initial_state: val_state}\n",
    "                    batch_acc, val_state = sess.run([accuracy, final_state], feed_dict=feed)\n",
    "                    val_acc.append(batch_acc)\n",
    "                print(\"Val acc: {:.3f}\".format(np.mean(val_acc)))\n",
    "            iteration +=1\n",
    "    saver.save(sess, \"checkpoints/sentiment.ckpt\")"
   ]
  },
  {
   "cell_type": "markdown",
   "metadata": {},
   "source": [
    "## Testing"
   ]
  },
  {
   "cell_type": "code",
   "execution_count": 26,
   "metadata": {},
   "outputs": [
    {
     "name": "stdout",
     "output_type": "stream",
     "text": [
      "INFO:tensorflow:Restoring parameters from checkpoints\\sentiment.ckpt\n",
      "Test accuracy: 0.770\n"
     ]
    }
   ],
   "source": [
    "test_acc = []\n",
    "with tf.Session(graph=graph) as sess:\n",
    "    saver.restore(sess, tf.train.latest_checkpoint('checkpoints'))\n",
    "    test_state = sess.run(cell.zero_state(batch_size, tf.float32))\n",
    "    for ii, (x, y) in enumerate(get_batches(test_x, test_y, batch_size), 1):\n",
    "        feed = {inputs_: x,\n",
    "                labels_: y[:, None],\n",
    "                keep_prob: 1,\n",
    "                initial_state: test_state}\n",
    "        batch_acc, test_state = sess.run([accuracy, final_state], feed_dict=feed)\n",
    "        test_acc.append(batch_acc)\n",
    "    print(\"Test accuracy: {:.3f}\".format(np.mean(test_acc)))"
   ]
  }
 ],
 "metadata": {
  "kernelspec": {
   "display_name": "Python 3",
   "language": "python",
   "name": "python3"
  },
  "language_info": {
   "codemirror_mode": {
    "name": "ipython",
    "version": 3
   },
   "file_extension": ".py",
   "mimetype": "text/x-python",
   "name": "python",
   "nbconvert_exporter": "python",
   "pygments_lexer": "ipython3",
   "version": "3.5.4"
  }
 },
 "nbformat": 4,
 "nbformat_minor": 2
}
