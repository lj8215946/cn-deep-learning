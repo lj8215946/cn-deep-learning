{
 "cells": [
  {
   "cell_type": "markdown",
   "metadata": {},
   "source": [
    "# Anna KaRNNa\n",
    "\n",
    "In this notebook, we'll build a character-wise RNN trained on Anna Karenina, one of my all-time favorite books. It'll be able to generate new text based on the text from the book.\n",
    "\n",
    "This network is based off of Andrej Karpathy's [post on RNNs](http://karpathy.github.io/2015/05/21/rnn-effectiveness/) and [implementation in Torch](https://github.com/karpathy/char-rnn). Also, some information [here at r2rt](http://r2rt.com/recurrent-neural-networks-in-tensorflow-ii.html) and from [Sherjil Ozair](https://github.com/sherjilozair/char-rnn-tensorflow) on GitHub. Below is the general architecture of the character-wise RNN.\n",
    "\n",
    "<img src=\"assets/charseq.jpeg\" width=\"500\">"
   ]
  },
  {
   "cell_type": "code",
   "execution_count": 1,
   "metadata": {},
   "outputs": [],
   "source": [
    "import time\n",
    "from collections import namedtuple\n",
    "\n",
    "import numpy as np\n",
    "import tensorflow as tf"
   ]
  },
  {
   "cell_type": "markdown",
   "metadata": {},
   "source": [
    "First we'll load the text file and convert it into integers for our network to use. Here I'm creating a couple dictionaries to convert the characters to and from integers. Encoding the characters as integers makes it easier to use as input in the network."
   ]
  },
  {
   "cell_type": "code",
   "execution_count": 2,
   "metadata": {},
   "outputs": [],
   "source": [
    "with open('anna.txt', 'r') as f:\n",
    "    text=f.read()\n",
    "vocab = set(text)\n",
    "vocab_to_int = {c: i for i, c in enumerate(vocab)}\n",
    "int_to_vocab = dict(enumerate(vocab))\n",
    "encoded = np.array([vocab_to_int[c] for c in text], dtype=np.int32)"
   ]
  },
  {
   "cell_type": "markdown",
   "metadata": {},
   "source": [
    "Let's check out the first 100 characters, make sure everything is peachy. According to the [American Book Review](http://americanbookreview.org/100bestlines.asp), this is the 6th best first line of a book ever."
   ]
  },
  {
   "cell_type": "code",
   "execution_count": 3,
   "metadata": {},
   "outputs": [
    {
     "data": {
      "text/plain": [
       "'Chapter 1\\n\\n\\nHappy families are all alike; every unhappy family is unhappy in its own\\nway.\\n\\nEverythin'"
      ]
     },
     "execution_count": 3,
     "metadata": {},
     "output_type": "execute_result"
    }
   ],
   "source": [
    "text[:100]"
   ]
  },
  {
   "cell_type": "markdown",
   "metadata": {},
   "source": [
    "And we can see the characters encoded as integers."
   ]
  },
  {
   "cell_type": "code",
   "execution_count": 4,
   "metadata": {},
   "outputs": [
    {
     "data": {
      "text/plain": [
       "array([13, 82, 25, 22,  8, 28, 12, 56,  0, 63, 63, 63, 21, 25, 22, 22, 50,\n",
       "       56, 75, 25, 57, 51, 53, 51, 28,  5, 56, 25, 12, 28, 56, 25, 53, 53,\n",
       "       56, 25, 53, 51, 23, 28, 34, 56, 28, 47, 28, 12, 50, 56, 20, 24, 82,\n",
       "       25, 22, 22, 50, 56, 75, 25, 57, 51, 53, 50, 56, 51,  5, 56, 20, 24,\n",
       "       82, 25, 22, 22, 50, 56, 51, 24, 56, 51,  8,  5, 56, 76, 14, 24, 63,\n",
       "       14, 25, 50, 79, 63, 63, 42, 47, 28, 12, 50,  8, 82, 51, 24])"
      ]
     },
     "execution_count": 4,
     "metadata": {},
     "output_type": "execute_result"
    }
   ],
   "source": [
    "encoded[:100]"
   ]
  },
  {
   "cell_type": "markdown",
   "metadata": {},
   "source": [
    "Since the network is working with individual characters, it's similar to a classification problem in which we are trying to predict the next character from the previous text.  Here's how many 'classes' our network has to pick from."
   ]
  },
  {
   "cell_type": "code",
   "execution_count": 5,
   "metadata": {},
   "outputs": [
    {
     "data": {
      "text/plain": [
       "83"
      ]
     },
     "execution_count": 5,
     "metadata": {},
     "output_type": "execute_result"
    }
   ],
   "source": [
    "len(vocab)"
   ]
  },
  {
   "cell_type": "markdown",
   "metadata": {},
   "source": [
    "## Making training mini-batches\n",
    "\n",
    "Here is where we'll make our mini-batches for training. Remember that we want our batches to be multiple sequences of some desired number of sequence steps. Considering a simple example, our batches would look like this:\n",
    "\n",
    "<img src=\"assets/sequence_batching@1x.png\" width=500px>\n",
    "\n",
    "\n",
    "<br>\n",
    "We have our text encoded as integers as one long array in `encoded`. Let's create a function that will give us an iterator for our batches. I like using [generator functions](https://jeffknupp.com/blog/2013/04/07/improve-your-python-yield-and-generators-explained/) to do this. Then we can pass `encoded` into this function and get our batch generator.\n",
    "\n",
    "The first thing we need to do is discard some of the text so we only have completely full batches. Each batch contains $N \\times M$ characters, where $N$ is the batch size (the number of sequences) and $M$ is the number of steps. Then, to get the number of batches we can make from some array `arr`, you divide the length of `arr` by the batch size. Once you know the number of batches and the batch size, you can get the total number of characters to keep.\n",
    "\n",
    "After that, we need to split `arr` into $N$ sequences. You can do this using `arr.reshape(size)` where `size` is a tuple containing the dimensions sizes of the reshaped array. We know we want $N$ sequences (`n_seqs` below), let's make that the size of the first dimension. For the second dimension, you can use `-1` as a placeholder in the size, it'll fill up the array with the appropriate data for you. After this, you should have an array that is $N \\times (M * K)$ where $K$ is the number of batches.\n",
    "\n",
    "Now that we have this array, we can iterate through it to get our batches. The idea is each batch is a $N \\times M$ window on the array. For each subsequent batch, the window moves over by `n_steps`. We also want to create both the input and target arrays. Remember that the targets are the inputs shifted over one character. You'll usually see the first input character used as the last target character, so something like this:\n",
    "```python\n",
    "y[:, :-1], y[:, -1] = x[:, 1:], x[:, 0]\n",
    "```\n",
    "where `x` is the input batch and `y` is the target batch.\n",
    "\n",
    "The way I like to do this window is use `range` to take steps of size `n_steps` from $0$ to `arr.shape[1]`, the total number of steps in each sequence. That way, the integers you get from `range` always point to the start of a batch, and each window is `n_steps` wide.\n",
    "\n",
    "> **Exercise:** Write the code for creating batches in the function below. The exercises in this notebook _will not be easy_. I've provided a notebook with solutions alongside this notebook. If you get stuck, checkout the solutions. The most important thing is that you don't copy and paste the code into here, **type out the solution code yourself.**"
   ]
  },
  {
   "cell_type": "code",
   "execution_count": 6,
   "metadata": {},
   "outputs": [],
   "source": [
    "def get_batches(arr, n_seqs, n_steps):\n",
    "    '''Create a generator that returns batches of size\n",
    "       n_seqs x n_steps from arr.\n",
    "       \n",
    "       Arguments\n",
    "       ---------\n",
    "       arr: Array you want to make batches from\n",
    "       n_seqs: Batch size, the number of sequences per batch\n",
    "       n_steps: Number of sequence steps per batch\n",
    "    '''\n",
    "    # Get the number of characters per batch and number of batches we can make\n",
    "    characters_per_batch = n_seqs * n_steps\n",
    "    n_batches = len(arr) // characters_per_batch\n",
    "    \n",
    "    # Keep only enough characters to make full batches\n",
    "    arr = arr[: n_batches * characters_per_batch]\n",
    "    \n",
    "    # Reshape into n_seqs rows\n",
    "    arr = arr.reshape((n_seqs, -1))\n",
    "    \n",
    "    for n in range(0, arr.shape[1], n_steps):\n",
    "        # The features\n",
    "        x = arr[:, n:n+n_steps]\n",
    "        # The targets, shifted by one\n",
    "        y = np.zeros_like(x)\n",
    "        y[:, :-1] = x[:, 1: ]\n",
    "        if n+n_steps+1 < arr.shape[1]-1:\n",
    "            y[:, -1] = arr[:,  n+n_steps+1]\n",
    "        else:\n",
    "            y[:, -1] = x[:, 0]\n",
    "        yield x, y"
   ]
  },
  {
   "cell_type": "markdown",
   "metadata": {},
   "source": [
    "Now I'll make my data sets and we can check out what's going on here. Here I'm going to use a batch size of 10 and 50 sequence steps."
   ]
  },
  {
   "cell_type": "code",
   "execution_count": 7,
   "metadata": {},
   "outputs": [],
   "source": [
    "batches = get_batches(encoded, 10, 50)\n",
    "x, y = next(batches)"
   ]
  },
  {
   "cell_type": "code",
   "execution_count": 8,
   "metadata": {},
   "outputs": [
    {
     "name": "stdout",
     "output_type": "stream",
     "text": [
      "x\n",
      " [[13 82 25 22  8 28 12 56  0 63]\n",
      " [56 25 57 56 24 76  8 56 43 76]\n",
      " [47 51 24 79 63 63 16 31 28  5]\n",
      " [24 56 39 20 12 51 24 43 56 82]\n",
      " [56 51  8 56 51  5 61 56  5 51]\n",
      " [56 58  8 56 14 25  5 63 76 24]\n",
      " [82 28 24 56 74 76 57 28 56 75]\n",
      " [34 56  9 20  8 56 24 76 14 56]\n",
      " [ 8 56 51  5 24 67  8 79 56 30]\n",
      " [56  5 25 51 39 56  8 76 56 82]]\n",
      "\n",
      "y\n",
      " [[82 25 22  8 28 12 56  0 63 63]\n",
      " [25 57 56 24 76  8 56 43 76 51]\n",
      " [51 24 79 63 63 16 31 28  5 61]\n",
      " [56 39 20 12 51 24 43 56 82 51]\n",
      " [51  8 56 51  5 61 56  5 51 12]\n",
      " [58  8 56 14 25  5 63 76 24 53]\n",
      " [28 24 56 74 76 57 28 56 75 76]\n",
      " [56  9 20  8 56 24 76 14 56  5]\n",
      " [56 51  5 24 67  8 79 56 30 82]\n",
      " [ 5 25 51 39 56  8 76 56 82 28]]\n"
     ]
    }
   ],
   "source": [
    "print('x\\n', x[:10, :10])\n",
    "print('\\ny\\n', y[:10, :10])"
   ]
  },
  {
   "cell_type": "markdown",
   "metadata": {},
   "source": [
    "If you implemented `get_batches` correctly, the above output should look something like \n",
    "```\n",
    "x\n",
    " [[55 63 69 22  6 76 45  5 16 35]\n",
    " [ 5 69  1  5 12 52  6  5 56 52]\n",
    " [48 29 12 61 35 35  8 64 76 78]\n",
    " [12  5 24 39 45 29 12 56  5 63]\n",
    " [ 5 29  6  5 29 78 28  5 78 29]\n",
    " [ 5 13  6  5 36 69 78 35 52 12]\n",
    " [63 76 12  5 18 52  1 76  5 58]\n",
    " [34  5 73 39  6  5 12 52 36  5]\n",
    " [ 6  5 29 78 12 79  6 61  5 59]\n",
    " [ 5 78 69 29 24  5  6 52  5 63]]\n",
    "\n",
    "y\n",
    " [[63 69 22  6 76 45  5 16 35 35]\n",
    " [69  1  5 12 52  6  5 56 52 29]\n",
    " [29 12 61 35 35  8 64 76 78 28]\n",
    " [ 5 24 39 45 29 12 56  5 63 29]\n",
    " [29  6  5 29 78 28  5 78 29 45]\n",
    " [13  6  5 36 69 78 35 52 12 43]\n",
    " [76 12  5 18 52  1 76  5 58 52]\n",
    " [ 5 73 39  6  5 12 52 36  5 78]\n",
    " [ 5 29 78 12 79  6 61  5 59 63]\n",
    " [78 69 29 24  5  6 52  5 63 76]]\n",
    " ```\n",
    " although the exact numbers will be different. Check to make sure the data is shifted over one step for `y`."
   ]
  },
  {
   "cell_type": "markdown",
   "metadata": {},
   "source": [
    "## Building the model\n",
    "\n",
    "Below is where you'll build the network. We'll break it up into parts so it's easier to reason about each bit. Then we can connect them up into the whole network.\n",
    "\n",
    "<img src=\"assets/charRNN.png\" width=500px>\n",
    "\n",
    "\n",
    "### Inputs\n",
    "\n",
    "First off we'll create our input placeholders. As usual we need placeholders for the training data and the targets. We'll also create a placeholder for dropout layers called `keep_prob`. This will be a scalar, that is a 0-D tensor. To make a scalar, you create a placeholder without giving it a size.\n",
    "\n",
    "> **Exercise:** Create the input placeholders in the function below."
   ]
  },
  {
   "cell_type": "code",
   "execution_count": 9,
   "metadata": {},
   "outputs": [],
   "source": [
    "def build_inputs(batch_size, num_steps):\n",
    "    ''' Define placeholders for inputs, targets, and dropout \n",
    "    \n",
    "        Arguments\n",
    "        ---------\n",
    "        batch_size: Batch size, number of sequences per batch\n",
    "        num_steps: Number of sequence steps in a batch\n",
    "        \n",
    "    '''\n",
    "    # Declare placeholders we'll feed into the graph\n",
    "    inputs = tf.placeholder( tf.int32, (batch_size, num_steps), name='inputs')\n",
    "    targets = tf.placeholder( tf.int32, (batch_size, num_steps), name='targets')\n",
    "    \n",
    "    # Keep probability placeholder for drop out layers\n",
    "    keep_prob = tf.placeholder( tf.float32, name='keep_prob')\n",
    "    \n",
    "    return inputs, targets, keep_prob"
   ]
  },
  {
   "cell_type": "markdown",
   "metadata": {},
   "source": [
    "### LSTM Cell\n",
    "\n",
    "Here we will create the LSTM cell we'll use in the hidden layer. We'll use this cell as a building block for the RNN. So we aren't actually defining the RNN here, just the type of cell we'll use in the hidden layer.\n",
    "\n",
    "We first create a basic LSTM cell with\n",
    "\n",
    "```python\n",
    "lstm = tf.contrib.rnn.BasicLSTMCell(num_units)\n",
    "```\n",
    "\n",
    "where `num_units` is the number of units in the hidden layers in the cell. Then we can add dropout by wrapping it with \n",
    "\n",
    "```python\n",
    "tf.contrib.rnn.DropoutWrapper(lstm, output_keep_prob=keep_prob)\n",
    "```\n",
    "You pass in a cell and it will automatically add dropout to the inputs or outputs. Finally, we can stack up the LSTM cells into layers with [`tf.contrib.rnn.MultiRNNCell`](https://www.tensorflow.org/versions/r1.0/api_docs/python/tf/contrib/rnn/MultiRNNCell). With this, you pass in a list of cells and it will send the output of one cell into the next cell. For example,\n",
    "\n",
    "```python\n",
    "tf.contrib.rnn.MultiRNNCell([cell]*num_layers)\n",
    "```\n",
    "\n",
    "This might look a little weird if you know Python well because this will create a list of the same `cell` object. However, TensorFlow will create different weight matrices for all `cell` objects. Even though this is actually multiple LSTM cells stacked on each other, you can treat the multiple layers as one cell.\n",
    "\n",
    "We also need to create an initial cell state of all zeros. This can be done like so\n",
    "\n",
    "```python\n",
    "initial_state = cell.zero_state(batch_size, tf.float32)\n",
    "```\n",
    "\n",
    "> **Exercise:** Below, implement the `build_lstm` function to create these LSTM cells and the initial state."
   ]
  },
  {
   "cell_type": "code",
   "execution_count": 10,
   "metadata": {},
   "outputs": [],
   "source": [
    "def build_lstm(lstm_size, num_layers, batch_size, keep_prob):\n",
    "    ''' Build LSTM cell.\n",
    "    \n",
    "        Arguments\n",
    "        ---------\n",
    "        keep_prob: Scalar tensor (tf.placeholder) for the dropout keep probability\n",
    "        lstm_size: Size of the hidden layers in the LSTM cells\n",
    "        num_layers: Number of LSTM layers\n",
    "        batch_size: Batch size\n",
    "\n",
    "    '''\n",
    "    stack_drop = []\n",
    "    \n",
    "    \n",
    "    for i in range(num_layers):\n",
    "        ### Build the LSTM Cell\n",
    "        # Use a basic LSTM cell\n",
    "        lstm = tf.contrib.rnn.BasicLSTMCell(lstm_size)\n",
    "        # Add dropout to the cell outputs\n",
    "        drop = tf.contrib.rnn.DropoutWrapper(lstm, output_keep_prob=keep_prob)\n",
    "        stack_drop.append(drop)\n",
    "    \n",
    "    # Stack up multiple LSTM layers, for deep learning\n",
    "    cell = tf.contrib.rnn.MultiRNNCell(stack_drop, state_is_tuple = True)\n",
    "    \n",
    "#     ### Build the LSTM Cell\n",
    "#     # Use a basic LSTM cell\n",
    "#     lstm = tf.contrib.rnn.BasicLSTMCell(lstm_size)\n",
    "    \n",
    "#     # Add dropout to the cell outputs\n",
    "#     drop = tf.contrib.rnn.DropoutWrapper(lstm, output_keep_prob=keep_prob)\n",
    "    \n",
    "#     \n",
    "#     cell = tf.contrib.rnn.MultiRNNCell([drop] * num_layers)\n",
    "    initial_state = cell.zero_state(batch_size, tf.float32)\n",
    "    \n",
    "    return cell, initial_state"
   ]
  },
  {
   "cell_type": "markdown",
   "metadata": {},
   "source": [
    "### RNN Output\n",
    "\n",
    "Here we'll create the output layer. We need to connect the output of the RNN cells to a full connected layer with a softmax output. The softmax output gives us a probability distribution we can use to predict the next character, so we want this layer to have size $C$, the number of classes/characters we have in our text.\n",
    "\n",
    "If our input has batch size $N$, number of steps $M$, and the hidden layer has $L$ hidden units, then the output is a 3D tensor with size $N \\times M \\times L$. The output of each LSTM cell has size $L$, we have $M$ of them, one for each sequence step, and we have $N$ sequences. So the total size is $N \\times M \\times L$. \n",
    "\n",
    "We are using the same fully connected layer, the same weights, for each of the outputs. Then, to make things easier, we should reshape the outputs into a 2D tensor with shape $(M * N) \\times L$. That is, one row for each sequence and step, where the values of each row are the output from the LSTM cells. We get the LSTM output as a list, `lstm_output`. First we need to concatenate this whole list into one array with [`tf.concat`](https://www.tensorflow.org/api_docs/python/tf/concat). Then, reshape it (with `tf.reshape`) to size $(M * N) \\times L$.\n",
    "\n",
    "One we have the outputs reshaped, we can do the matrix multiplication with the weights. We need to wrap the weight and bias variables in a variable scope with `tf.variable_scope(scope_name)` because there are weights being created in the LSTM cells. TensorFlow will throw an error if the weights created here have the same names as the weights created in the LSTM cells, which they will be default. To avoid this, we wrap the variables in a variable scope so we can give them unique names.\n",
    "\n",
    "> **Exercise:** Implement the output layer in the function below."
   ]
  },
  {
   "cell_type": "code",
   "execution_count": 11,
   "metadata": {},
   "outputs": [],
   "source": [
    "def build_output(lstm_output, in_size, out_size):\n",
    "    ''' Build a softmax layer, return the softmax output and logits.\n",
    "    \n",
    "        Arguments\n",
    "        ---------\n",
    "        \n",
    "        lstm_output: List of output tensors from the LSTM layer\n",
    "        in_size: Size of the input tensor, for example, size of the LSTM cells\n",
    "        out_size: Size of this softmax layer\n",
    "    \n",
    "    '''\n",
    "    # Reshape seq_output to a 2D tensor with lstm_size columns\n",
    "    x = tf.reshape(lstm_output, (-1, in_size))\n",
    "    \n",
    "    # Connect the RNN outputs to a softmax layer\n",
    "    with tf.variable_scope('softmax'):\n",
    "        # Create the weight and bias variables here\n",
    "        softmax_w = tf.Variable( tf.truncated_normal((in_size, out_size), 0, 1/tf.sqrt(tf.cast(in_size, tf.float32))))\n",
    "        softmax_b = tf.Variable( tf.zeros(out_size, tf.float32))\n",
    "    \n",
    "    # Since output is a bunch of rows of RNN cell outputs, logits will be a bunch\n",
    "    # of rows of logit outputs, one for each step and sequence\n",
    "    logits = tf.add(tf.matmul(x, softmax_w), softmax_b)\n",
    "    \n",
    "    # Use softmax to get the probabilities for predicted characters\n",
    "    out = tf.nn.softmax(logits, name='predictions')\n",
    "    \n",
    "    return out, logits"
   ]
  },
  {
   "cell_type": "markdown",
   "metadata": {},
   "source": [
    "### Training loss\n",
    "\n",
    "Next up is the training loss. We get the logits and targets and calculate the softmax cross-entropy loss. First we need to one-hot encode the targets, we're getting them as encoded characters. Then, reshape the one-hot targets so it's a 2D tensor with size $(M*N) \\times C$ where $C$ is the number of classes/characters we have. Remember that we reshaped the LSTM outputs and ran them through a fully connected layer with $C$ units. So our logits will also have size $(M*N) \\times C$.\n",
    "\n",
    "Then we run the logits and targets through `tf.nn.softmax_cross_entropy_with_logits` and find the mean to get the loss.\n",
    "\n",
    ">**Exercise:** Implement the loss calculation in the function below."
   ]
  },
  {
   "cell_type": "code",
   "execution_count": 12,
   "metadata": {},
   "outputs": [],
   "source": [
    "def build_loss(logits, targets, lstm_size, num_classes):\n",
    "    ''' Calculate the loss from the logits and the targets.\n",
    "    \n",
    "        Arguments\n",
    "        ---------\n",
    "        logits: Logits from final fully connected layer\n",
    "        targets: Targets for supervised learning\n",
    "        lstm_size: Number of LSTM hidden units\n",
    "        num_classes: Number of classes in targets\n",
    "        \n",
    "    '''\n",
    "    \n",
    "    # One-hot encode targets and reshape to match logits, one row per sequence per step\n",
    "    y_one_hot = tf.one_hot(targets, num_classes)\n",
    "    y_reshaped = tf.reshape(y_one_hot, logits.get_shape())\n",
    "    \n",
    "    # Softmax cross entropy loss\n",
    "    loss = tf.nn.softmax_cross_entropy_with_logits(labels=y_reshaped, logits=logits)\n",
    "    loss = tf.reduce_mean(loss)\n",
    "    return loss"
   ]
  },
  {
   "cell_type": "markdown",
   "metadata": {},
   "source": [
    "### Optimizer\n",
    "\n",
    "Here we build the optimizer. Normal RNNs have have issues gradients exploding and disappearing. LSTMs fix the disappearance problem, but the gradients can still grow without bound. To fix this, we can clip the gradients above some threshold. That is, if a gradient is larger than that threshold, we set it to the threshold. This will ensure the gradients never grow overly large. Then we use an AdamOptimizer for the learning step."
   ]
  },
  {
   "cell_type": "code",
   "execution_count": 13,
   "metadata": {},
   "outputs": [],
   "source": [
    "def build_optimizer(loss, learning_rate, grad_clip):\n",
    "    ''' Build optmizer for training, using gradient clipping.\n",
    "    \n",
    "        Arguments:\n",
    "        loss: Network loss\n",
    "        learning_rate: Learning rate for optimizer\n",
    "    \n",
    "    '''\n",
    "    \n",
    "    # Optimizer for training, using gradient clipping to control exploding gradients\n",
    "    tvars = tf.trainable_variables()\n",
    "    grads, _ = tf.clip_by_global_norm(tf.gradients(loss, tvars), grad_clip)\n",
    "    train_op = tf.train.AdamOptimizer(learning_rate)\n",
    "    optimizer = train_op.apply_gradients(zip(grads, tvars))\n",
    "    \n",
    "    return optimizer"
   ]
  },
  {
   "cell_type": "markdown",
   "metadata": {},
   "source": [
    "### Build the network\n",
    "\n",
    "Now we can put all the pieces together and build a class for the network. To actually run data through the LSTM cells, we will use [`tf.nn.dynamic_rnn`](https://www.tensorflow.org/versions/r1.0/api_docs/python/tf/nn/dynamic_rnn). This function will pass the hidden and cell states across LSTM cells appropriately for us. It returns the outputs for each LSTM cell at each step for each sequence in the mini-batch. It also gives us the final LSTM state. We want to save this state as `final_state` so we can pass it to the first LSTM cell in the the next mini-batch run. For `tf.nn.dynamic_rnn`, we pass in the cell and initial state we get from `build_lstm`, as well as our input sequences. Also, we need to one-hot encode the inputs before going into the RNN. \n",
    "\n",
    "> **Exercise:** Use the functions you've implemented previously and `tf.nn.dynamic_rnn` to build the network."
   ]
  },
  {
   "cell_type": "code",
   "execution_count": 14,
   "metadata": {},
   "outputs": [],
   "source": [
    "class CharRNN:\n",
    "    \n",
    "    def __init__(self, num_classes, batch_size=64, num_steps=50, \n",
    "                       lstm_size=128, num_layers=2, learning_rate=0.001, \n",
    "                       grad_clip=5, sampling=False):\n",
    "    \n",
    "        # When we're using this network for sampling later, we'll be passing in\n",
    "        # one character at a time, so providing an option for that\n",
    "        if sampling == True:\n",
    "            batch_size, num_steps = 1, 1\n",
    "        else:\n",
    "            batch_size, num_steps = batch_size, num_steps\n",
    "\n",
    "        tf.reset_default_graph()\n",
    "        \n",
    "        # Build the input placeholder tensors\n",
    "        self.inputs, self.targets, self.keep_prob = build_inputs(batch_size, num_steps)\n",
    "\n",
    "        # Build the LSTM cell\n",
    "        cell, self.initial_state = build_lstm(lstm_size, num_layers, batch_size, self.keep_prob)\n",
    "\n",
    "        ### Run the data through the RNN layers\n",
    "        # First, one-hot encode the input tokens\n",
    "        x_one_hot = tf.one_hot(self.inputs, num_classes)\n",
    "        \n",
    "        # Run each sequence step through the RNN with tf.nn.dynamic_rnn \n",
    "        outputs, state = tf.nn.dynamic_rnn(cell, x_one_hot, initial_state=self.initial_state)\n",
    "        self.final_state = state\n",
    "        \n",
    "        # Get softmax predictions and logits\n",
    "        self.prediction, self.logits = build_output(outputs, lstm_size, num_classes)\n",
    "        \n",
    "        # Loss and optimizer (with gradient clipping)\n",
    "        self.loss = build_loss(self.logits, self.targets,lstm_size, num_classes)\n",
    "        self.optimizer = build_optimizer(self.loss, learning_rate, grad_clip)"
   ]
  },
  {
   "cell_type": "markdown",
   "metadata": {},
   "source": [
    "## Hyperparameters\n",
    "\n",
    "Here are the hyperparameters for the network.\n",
    "\n",
    "* `batch_size` - Number of sequences running through the network in one pass.\n",
    "* `num_steps` - Number of characters in the sequence the network is trained on. Larger is better typically, the network will learn more long range dependencies. But it takes longer to train. 100 is typically a good number here.\n",
    "* `lstm_size` - The number of units in the hidden layers.\n",
    "* `num_layers` - Number of hidden LSTM layers to use\n",
    "* `learning_rate` - Learning rate for training\n",
    "* `keep_prob` - The dropout keep probability when training. If you're network is overfitting, try decreasing this.\n",
    "\n",
    "Here's some good advice from Andrej Karpathy on training the network. I'm going to copy it in here for your benefit, but also link to [where it originally came from](https://github.com/karpathy/char-rnn#tips-and-tricks).\n",
    "\n",
    "> ## Tips and Tricks\n",
    "\n",
    ">### Monitoring Validation Loss vs. Training Loss\n",
    ">If you're somewhat new to Machine Learning or Neural Networks it can take a bit of expertise to get good models. The most important quantity to keep track of is the difference between your training loss (printed during training) and the validation loss (printed once in a while when the RNN is run on the validation data (by default every 1000 iterations)). In particular:\n",
    "\n",
    "> - If your training loss is much lower than validation loss then this means the network might be **overfitting**. Solutions to this are to decrease your network size, or to increase dropout. For example you could try dropout of 0.5 and so on.\n",
    "> - If your training/validation loss are about equal then your model is **underfitting**. Increase the size of your model (either number of layers or the raw number of neurons per layer)\n",
    "\n",
    "> ### Approximate number of parameters\n",
    "\n",
    "> The two most important parameters that control the model are `lstm_size` and `num_layers`. I would advise that you always use `num_layers` of either 2/3. The `lstm_size` can be adjusted based on how much data you have. The two important quantities to keep track of here are:\n",
    "\n",
    "> - The number of parameters in your model. This is printed when you start training.\n",
    "> - The size of your dataset. 1MB file is approximately 1 million characters.\n",
    "\n",
    ">These two should be about the same order of magnitude. It's a little tricky to tell. Here are some examples:\n",
    "\n",
    "> - I have a 100MB dataset and I'm using the default parameter settings (which currently print 150K parameters). My data size is significantly larger (100 mil >> 0.15 mil), so I expect to heavily underfit. I am thinking I can comfortably afford to make `lstm_size` larger.\n",
    "> - I have a 10MB dataset and running a 10 million parameter model. I'm slightly nervous and I'm carefully monitoring my validation loss. If it's larger than my training loss then I may want to try to increase dropout a bit and see if that helps the validation loss.\n",
    "\n",
    "> ### Best models strategy\n",
    "\n",
    ">The winning strategy to obtaining very good models (if you have the compute time) is to always err on making the network larger (as large as you're willing to wait for it to compute) and then try different dropout values (between 0,1). Whatever model has the best validation performance (the loss, written in the checkpoint filename, low is good) is the one you should use in the end.\n",
    "\n",
    ">It is very common in deep learning to run many different models with many different hyperparameter settings, and in the end take whatever checkpoint gave the best validation performance.\n",
    "\n",
    ">By the way, the size of your training and validation splits are also parameters. Make sure you have a decent amount of data in your validation set or otherwise the validation performance will be noisy and not very informative."
   ]
  },
  {
   "cell_type": "code",
   "execution_count": 15,
   "metadata": {},
   "outputs": [],
   "source": [
    "batch_size = 100        # Sequences per batch\n",
    "num_steps = 100         # Number of sequence steps per batch\n",
    "lstm_size = 512         # Size of hidden layers in LSTMs\n",
    "num_layers = 2          # Number of LSTM layers\n",
    "learning_rate = 0.001   # Learning rate\n",
    "keep_prob = 0.5         # Dropout keep probability"
   ]
  },
  {
   "cell_type": "markdown",
   "metadata": {},
   "source": [
    "## Time for training\n",
    "\n",
    "This is typical training code, passing inputs and targets into the network, then running the optimizer. Here we also get back the final LSTM state for the mini-batch. Then, we pass that state back into the network so the next batch can continue the state from the previous batch. And every so often (set by `save_every_n`) I save a checkpoint.\n",
    "\n",
    "Here I'm saving checkpoints with the format\n",
    "\n",
    "`i{iteration number}_l{# hidden layer units}.ckpt`\n",
    "\n",
    "> **Exercise:** Set the hyperparameters above to train the network. Watch the training loss, it should be consistently dropping. Also, I highly advise running this on a GPU."
   ]
  },
  {
   "cell_type": "code",
   "execution_count": 16,
   "metadata": {
    "scrolled": true
   },
   "outputs": [
    {
     "name": "stdout",
     "output_type": "stream",
     "text": [
      "Epoch: 1/20...  Training Step: 50...  Training loss: 3.1407...  0.2302 sec/batch\n",
      "Epoch: 1/20...  Training Step: 100...  Training loss: 3.0959...  0.2201 sec/batch\n",
      "Epoch: 1/20...  Training Step: 150...  Training loss: 2.7928...  0.2301 sec/batch\n",
      "Epoch: 2/20...  Training Step: 200...  Training loss: 2.5140...  0.2403 sec/batch\n",
      "Epoch: 2/20...  Training Step: 250...  Training loss: 2.4191...  0.2337 sec/batch\n",
      "Epoch: 2/20...  Training Step: 300...  Training loss: 2.3270...  0.2401 sec/batch\n",
      "Epoch: 2/20...  Training Step: 350...  Training loss: 2.2882...  0.2200 sec/batch\n",
      "Epoch: 3/20...  Training Step: 400...  Training loss: 2.1751...  0.2297 sec/batch\n",
      "Epoch: 3/20...  Training Step: 450...  Training loss: 2.1055...  0.2201 sec/batch\n",
      "Epoch: 3/20...  Training Step: 500...  Training loss: 2.0304...  0.2403 sec/batch\n",
      "Epoch: 3/20...  Training Step: 550...  Training loss: 2.0206...  0.2201 sec/batch\n",
      "Epoch: 4/20...  Training Step: 600...  Training loss: 1.9235...  0.2403 sec/batch\n",
      "Epoch: 4/20...  Training Step: 650...  Training loss: 1.9205...  0.2304 sec/batch\n",
      "Epoch: 4/20...  Training Step: 700...  Training loss: 1.8741...  0.2301 sec/batch\n",
      "Epoch: 4/20...  Training Step: 750...  Training loss: 1.8330...  0.2199 sec/batch\n",
      "Epoch: 5/20...  Training Step: 800...  Training loss: 1.8080...  0.2199 sec/batch\n",
      "Epoch: 5/20...  Training Step: 850...  Training loss: 1.7726...  0.2199 sec/batch\n",
      "Epoch: 5/20...  Training Step: 900...  Training loss: 1.7623...  0.2300 sec/batch\n",
      "Epoch: 5/20...  Training Step: 950...  Training loss: 1.7297...  0.2304 sec/batch\n",
      "Epoch: 6/20...  Training Step: 1000...  Training loss: 1.7050...  0.2403 sec/batch\n",
      "Epoch: 6/20...  Training Step: 1050...  Training loss: 1.7314...  0.2401 sec/batch\n",
      "Epoch: 6/20...  Training Step: 1100...  Training loss: 1.6860...  0.2200 sec/batch\n",
      "Epoch: 6/20...  Training Step: 1150...  Training loss: 1.6774...  0.2401 sec/batch\n",
      "Epoch: 7/20...  Training Step: 1200...  Training loss: 1.6263...  0.2302 sec/batch\n",
      "Epoch: 7/20...  Training Step: 1250...  Training loss: 1.6828...  0.2301 sec/batch\n",
      "Epoch: 7/20...  Training Step: 1300...  Training loss: 1.5845...  0.2201 sec/batch\n",
      "Epoch: 7/20...  Training Step: 1350...  Training loss: 1.5853...  0.2301 sec/batch\n",
      "Epoch: 8/20...  Training Step: 1400...  Training loss: 1.6104...  0.2404 sec/batch\n",
      "Epoch: 8/20...  Training Step: 1450...  Training loss: 1.5724...  0.2197 sec/batch\n",
      "Epoch: 8/20...  Training Step: 1500...  Training loss: 1.5356...  0.2302 sec/batch\n",
      "Epoch: 8/20...  Training Step: 1550...  Training loss: 1.5569...  0.2199 sec/batch\n",
      "Epoch: 9/20...  Training Step: 1600...  Training loss: 1.5164...  0.2201 sec/batch\n",
      "Epoch: 9/20...  Training Step: 1650...  Training loss: 1.5327...  0.2403 sec/batch\n",
      "Epoch: 9/20...  Training Step: 1700...  Training loss: 1.4640...  0.2202 sec/batch\n",
      "Epoch: 9/20...  Training Step: 1750...  Training loss: 1.4961...  0.2302 sec/batch\n",
      "Epoch: 10/20...  Training Step: 1800...  Training loss: 1.5047...  0.2299 sec/batch\n",
      "Epoch: 10/20...  Training Step: 1850...  Training loss: 1.4591...  0.2300 sec/batch\n",
      "Epoch: 10/20...  Training Step: 1900...  Training loss: 1.4684...  0.2300 sec/batch\n",
      "Epoch: 10/20...  Training Step: 1950...  Training loss: 1.5402...  0.2301 sec/batch\n",
      "Epoch: 11/20...  Training Step: 2000...  Training loss: 1.4840...  0.2200 sec/batch\n",
      "Epoch: 11/20...  Training Step: 2050...  Training loss: 1.4439...  0.2301 sec/batch\n",
      "Epoch: 11/20...  Training Step: 2100...  Training loss: 1.4280...  0.2201 sec/batch\n",
      "Epoch: 11/20...  Training Step: 2150...  Training loss: 1.4357...  0.2199 sec/batch\n",
      "Epoch: 12/20...  Training Step: 2200...  Training loss: 1.4428...  0.2401 sec/batch\n",
      "Epoch: 12/20...  Training Step: 2250...  Training loss: 1.4441...  0.2301 sec/batch\n",
      "Epoch: 12/20...  Training Step: 2300...  Training loss: 1.3664...  0.2404 sec/batch\n",
      "Epoch: 12/20...  Training Step: 2350...  Training loss: 1.3787...  0.2304 sec/batch\n",
      "Epoch: 13/20...  Training Step: 2400...  Training loss: 1.4136...  0.2301 sec/batch\n",
      "Epoch: 13/20...  Training Step: 2450...  Training loss: 1.3748...  0.2300 sec/batch\n",
      "Epoch: 13/20...  Training Step: 2500...  Training loss: 1.3840...  0.2303 sec/batch\n",
      "Epoch: 13/20...  Training Step: 2550...  Training loss: 1.3783...  0.2279 sec/batch\n",
      "Epoch: 14/20...  Training Step: 2600...  Training loss: 1.3427...  0.2301 sec/batch\n",
      "Epoch: 14/20...  Training Step: 2650...  Training loss: 1.3908...  0.2301 sec/batch\n",
      "Epoch: 14/20...  Training Step: 2700...  Training loss: 1.3273...  0.2404 sec/batch\n",
      "Epoch: 14/20...  Training Step: 2750...  Training loss: 1.3371...  0.2300 sec/batch\n",
      "Epoch: 15/20...  Training Step: 2800...  Training loss: 1.3774...  0.2301 sec/batch\n",
      "Epoch: 15/20...  Training Step: 2850...  Training loss: 1.3444...  0.2302 sec/batch\n",
      "Epoch: 15/20...  Training Step: 2900...  Training loss: 1.3508...  0.2401 sec/batch\n",
      "Epoch: 15/20...  Training Step: 2950...  Training loss: 1.3747...  0.2301 sec/batch\n",
      "Epoch: 16/20...  Training Step: 3000...  Training loss: 1.3613...  0.2402 sec/batch\n",
      "Epoch: 16/20...  Training Step: 3050...  Training loss: 1.3345...  0.2301 sec/batch\n",
      "Epoch: 16/20...  Training Step: 3100...  Training loss: 1.2874...  0.2301 sec/batch\n",
      "Epoch: 16/20...  Training Step: 3150...  Training loss: 1.3017...  0.2401 sec/batch\n",
      "Epoch: 17/20...  Training Step: 3200...  Training loss: 1.2906...  0.2163 sec/batch\n",
      "Epoch: 17/20...  Training Step: 3250...  Training loss: 1.3125...  0.2303 sec/batch\n",
      "Epoch: 17/20...  Training Step: 3300...  Training loss: 1.2790...  0.2299 sec/batch\n",
      "Epoch: 17/20...  Training Step: 3350...  Training loss: 1.3107...  0.2199 sec/batch\n",
      "Epoch: 18/20...  Training Step: 3400...  Training loss: 1.3019...  0.2199 sec/batch\n",
      "Epoch: 18/20...  Training Step: 3450...  Training loss: 1.3013...  0.2300 sec/batch\n",
      "Epoch: 18/20...  Training Step: 3500...  Training loss: 1.2998...  0.2199 sec/batch\n",
      "Epoch: 18/20...  Training Step: 3550...  Training loss: 1.2962...  0.2502 sec/batch\n",
      "Epoch: 19/20...  Training Step: 3600...  Training loss: 1.2956...  0.2302 sec/batch\n",
      "Epoch: 19/20...  Training Step: 3650...  Training loss: 1.2883...  0.2302 sec/batch\n",
      "Epoch: 19/20...  Training Step: 3700...  Training loss: 1.2835...  0.2199 sec/batch\n",
      "Epoch: 19/20...  Training Step: 3750...  Training loss: 1.2645...  0.2401 sec/batch\n",
      "Epoch: 20/20...  Training Step: 3800...  Training loss: 1.2186...  0.2404 sec/batch\n",
      "Epoch: 20/20...  Training Step: 3850...  Training loss: 1.2622...  0.2199 sec/batch\n",
      "Epoch: 20/20...  Training Step: 3900...  Training loss: 1.2954...  0.2447 sec/batch\n",
      "Epoch: 20/20...  Training Step: 3950...  Training loss: 1.2608...  0.2201 sec/batch\n"
     ]
    }
   ],
   "source": [
    "epochs = 20\n",
    "# Save every N iterations\n",
    "save_every_n = 200\n",
    "\n",
    "model = CharRNN(len(vocab), batch_size=batch_size, num_steps=num_steps,\n",
    "                lstm_size=lstm_size, num_layers=num_layers, \n",
    "                learning_rate=learning_rate)\n",
    "\n",
    "saver = tf.train.Saver(max_to_keep=100)\n",
    "with tf.Session() as sess:\n",
    "    sess.run(tf.global_variables_initializer())\n",
    "    \n",
    "    # Use the line below to load a checkpoint and resume training\n",
    "    #saver.restore(sess, 'checkpoints/______.ckpt')\n",
    "    counter = 0\n",
    "    for e in range(epochs):\n",
    "        # Train network\n",
    "        new_state = sess.run(model.initial_state)\n",
    "        loss = 0\n",
    "        for x, y in get_batches(encoded, batch_size, num_steps):\n",
    "            counter += 1\n",
    "            start = time.time()\n",
    "            feed = {model.inputs: x,\n",
    "                    model.targets: y,\n",
    "                    model.keep_prob: keep_prob,\n",
    "                    model.initial_state: new_state}\n",
    "            batch_loss, new_state, _ = sess.run([model.loss, \n",
    "                                                 model.final_state, \n",
    "                                                 model.optimizer], \n",
    "                                                 feed_dict=feed)\n",
    "            \n",
    "            end = time.time()\n",
    "            \n",
    "            if counter % 50 == 0:\n",
    "                print('Epoch: {}/{}... '.format(e+1, epochs),\n",
    "                          'Training Step: {}... '.format(counter),\n",
    "                          'Training loss: {:.4f}... '.format(batch_loss),\n",
    "                          '{:.4f} sec/batch'.format((end-start)))\n",
    "        \n",
    "            if (counter % save_every_n == 0):\n",
    "                saver.save(sess, \"checkpoints/i{}_l{}.ckpt\".format(counter, lstm_size))\n",
    "    \n",
    "    saver.save(sess, \"checkpoints/i{}_l{}.ckpt\".format(counter, lstm_size))"
   ]
  },
  {
   "cell_type": "markdown",
   "metadata": {},
   "source": [
    "#### Saved checkpoints\n",
    "\n",
    "Read up on saving and loading checkpoints here: https://www.tensorflow.org/programmers_guide/variables"
   ]
  },
  {
   "cell_type": "code",
   "execution_count": 17,
   "metadata": {},
   "outputs": [
    {
     "data": {
      "text/plain": [
       "model_checkpoint_path: \"checkpoints\\\\i3960_l512.ckpt\"\n",
       "all_model_checkpoint_paths: \"checkpoints\\\\i200_l512.ckpt\"\n",
       "all_model_checkpoint_paths: \"checkpoints\\\\i400_l512.ckpt\"\n",
       "all_model_checkpoint_paths: \"checkpoints\\\\i600_l512.ckpt\"\n",
       "all_model_checkpoint_paths: \"checkpoints\\\\i800_l512.ckpt\"\n",
       "all_model_checkpoint_paths: \"checkpoints\\\\i1000_l512.ckpt\"\n",
       "all_model_checkpoint_paths: \"checkpoints\\\\i1200_l512.ckpt\"\n",
       "all_model_checkpoint_paths: \"checkpoints\\\\i1400_l512.ckpt\"\n",
       "all_model_checkpoint_paths: \"checkpoints\\\\i1600_l512.ckpt\"\n",
       "all_model_checkpoint_paths: \"checkpoints\\\\i1800_l512.ckpt\"\n",
       "all_model_checkpoint_paths: \"checkpoints\\\\i2000_l512.ckpt\"\n",
       "all_model_checkpoint_paths: \"checkpoints\\\\i2200_l512.ckpt\"\n",
       "all_model_checkpoint_paths: \"checkpoints\\\\i2400_l512.ckpt\"\n",
       "all_model_checkpoint_paths: \"checkpoints\\\\i2600_l512.ckpt\"\n",
       "all_model_checkpoint_paths: \"checkpoints\\\\i2800_l512.ckpt\"\n",
       "all_model_checkpoint_paths: \"checkpoints\\\\i3000_l512.ckpt\"\n",
       "all_model_checkpoint_paths: \"checkpoints\\\\i3200_l512.ckpt\"\n",
       "all_model_checkpoint_paths: \"checkpoints\\\\i3400_l512.ckpt\"\n",
       "all_model_checkpoint_paths: \"checkpoints\\\\i3600_l512.ckpt\"\n",
       "all_model_checkpoint_paths: \"checkpoints\\\\i3800_l512.ckpt\"\n",
       "all_model_checkpoint_paths: \"checkpoints\\\\i3960_l512.ckpt\""
      ]
     },
     "execution_count": 17,
     "metadata": {},
     "output_type": "execute_result"
    }
   ],
   "source": [
    "tf.train.get_checkpoint_state('checkpoints')"
   ]
  },
  {
   "cell_type": "markdown",
   "metadata": {},
   "source": [
    "## Sampling\n",
    "\n",
    "Now that the network is trained, we'll can use it to generate new text. The idea is that we pass in a character, then the network will predict the next character. We can use the new one, to predict the next one. And we keep doing this to generate all new text. I also included some functionality to prime the network with some text by passing in a string and building up a state from that.\n",
    "\n",
    "The network gives us predictions for each character. To reduce noise and make things a little less random, I'm going to only choose a new character from the top N most likely characters.\n",
    "\n"
   ]
  },
  {
   "cell_type": "code",
   "execution_count": 18,
   "metadata": {},
   "outputs": [],
   "source": [
    "def pick_top_n(preds, vocab_size, top_n=5):\n",
    "    p = np.squeeze(preds)\n",
    "    p[np.argsort(p)[:-top_n]] = 0\n",
    "    p = p / np.sum(p)\n",
    "    c = np.random.choice(vocab_size, 1, p=p)[0]\n",
    "    return c"
   ]
  },
  {
   "cell_type": "code",
   "execution_count": 19,
   "metadata": {},
   "outputs": [],
   "source": [
    "def sample(checkpoint, n_samples, lstm_size, vocab_size, prime=\"The \"):\n",
    "    samples = [c for c in prime]\n",
    "    model = CharRNN(len(vocab), lstm_size=lstm_size, sampling=True)\n",
    "    saver = tf.train.Saver()\n",
    "    with tf.Session() as sess:\n",
    "        saver.restore(sess, checkpoint)\n",
    "        new_state = sess.run(model.initial_state)\n",
    "        for c in prime:\n",
    "            x = np.zeros((1, 1))\n",
    "            x[0,0] = vocab_to_int[c]\n",
    "            feed = {model.inputs: x,\n",
    "                    model.keep_prob: 1.,\n",
    "                    model.initial_state: new_state}\n",
    "            preds, new_state = sess.run([model.prediction, model.final_state], \n",
    "                                         feed_dict=feed)\n",
    "\n",
    "        c = pick_top_n(preds, len(vocab))\n",
    "        samples.append(int_to_vocab[c])\n",
    "\n",
    "        for i in range(n_samples):\n",
    "            x[0,0] = c\n",
    "            feed = {model.inputs: x,\n",
    "                    model.keep_prob: 1.,\n",
    "                    model.initial_state: new_state}\n",
    "            preds, new_state = sess.run([model.prediction, model.final_state], \n",
    "                                         feed_dict=feed)\n",
    "\n",
    "            c = pick_top_n(preds, len(vocab))\n",
    "            samples.append(int_to_vocab[c])\n",
    "        \n",
    "    return ''.join(samples)"
   ]
  },
  {
   "cell_type": "markdown",
   "metadata": {},
   "source": [
    "Here, pass in the path to a checkpoint and sample from the network."
   ]
  },
  {
   "cell_type": "code",
   "execution_count": 20,
   "metadata": {},
   "outputs": [
    {
     "data": {
      "text/plain": [
       "'checkpoints\\\\i3960_l512.ckpt'"
      ]
     },
     "execution_count": 20,
     "metadata": {},
     "output_type": "execute_result"
    }
   ],
   "source": [
    "tf.train.latest_checkpoint('checkpoints')"
   ]
  },
  {
   "cell_type": "code",
   "execution_count": 21,
   "metadata": {},
   "outputs": [
    {
     "name": "stdout",
     "output_type": "stream",
     "text": [
      "INFO:tensorflow:Restoring parameters from checkpoints\\i3960_l512.ckpt\n",
      "Farringh,\n",
      "life he felt something was the place of attitude to staying a cordine\n",
      "out, as though he despried the carriage, and the most of a position, and\n",
      "to be dreadly over a moments and he was so telling him was to see this\n",
      "way.\n",
      "\n",
      "And the princess that she sat down of a brush and whisper, and answered\n",
      "him of the countest.\n",
      "\n",
      "\"I'm so said to her in the conscientionable fascenites.\"\n",
      "\n",
      "Alexey Alexandrovitch saw it all anxiel in the chief soles in the\n",
      "wife, and he caught him with him.\n",
      "\n",
      "\"I cannot be driving away to your, I have not answer all, I'm to see\n",
      "it?\"\n",
      "\n",
      "\"What is this to told him in my side, by any man the princess,\" she said,\n",
      "saying, \"I was not that in the chull would be and tryed about the thig\n",
      "most of the strength to help him and the soun side of silvery, he could not\n",
      "look, but he could not like the peasant when they has so many perslacity\n",
      "of an imagination was that the whole shade, that she can't be so too, that\n",
      "I shall come. They should have to speak about him to much all sorts, and\n",
      "then all the plough,\" said Anna, and the point of his hat was the\n",
      "settoul sours on the big risen and all the money in the\n",
      "sense that he could not speak with was the distustes, but himself,\n",
      "hurriedly in a sendect of, and the steps of his still to this, and she\n",
      "say not his face that he went upot all the peepensest opposed how in the carriage\n",
      "of she were all to the porter and a contidutation and hands they\n",
      "would happened them all the matter, and though he seemed to him, but he\n",
      "did not stay her and all thinking into the same side.\n",
      "\n",
      "The care of complete answer was the same time and talking at the\n",
      "peasants, and a conversation was struggled in one about her and walted\n",
      "talk in his hands, and the country. He had thought the morning when\n",
      "he was at lone, and to do, that the prince treed, as he had been both\n",
      "shrush, but to come train. Sergoy Levin saw her as he saw that he had\n",
      "said, taking the secretary, the distress though he was\n",
      "not a perceeding and an answer. The day that is so a subject. And his\n",
      "b\n"
     ]
    }
   ],
   "source": [
    "checkpoint = tf.train.latest_checkpoint('checkpoints')\n",
    "samp = sample(checkpoint, 2000, lstm_size, len(vocab), prime=\"Far\")\n",
    "print(samp)"
   ]
  },
  {
   "cell_type": "code",
   "execution_count": 22,
   "metadata": {},
   "outputs": [
    {
     "name": "stdout",
     "output_type": "stream",
     "text": [
      "INFO:tensorflow:Restoring parameters from checkpoints/i200_l512.ckpt\n",
      "Fartati nth sir the ans at ife he tar he tha ta wees hitin\n",
      " hhe tor wase anthe hat is on an te ate he she tead an sos on sit ar we tite an asthes afthe th rat one, he sat ter, ho ther to sise\n",
      "\n",
      "and her an hor sas tant te the thas,\n",
      "tan thes, the hhe thit sot an wat he tore sis on win thi se alde and wout int an te ser tat he he the hes hes thot\n",
      "\n",
      "tin hon tit ond wit on at oo sose he the te as he the sis and te ter, se ter ale she se as hor the\n",
      "\n",
      "tho the seetes are tire the these and th as tore sire ande sete this\n",
      "thas tou har se wos an te he ther tha lore\n",
      " teo that an wing her tither on te who tares\n",
      "an ta sher on th th the sot ant,\n",
      "ar at ante tot an and he she he tas an wesan an an hor an tis te to he and wit har tor,\n",
      "aring ant ous ar tho tot thor the ale tate thange\n",
      "\"ond tar he tose th rer oun so hon was and het in than hhe she the serend\n",
      "sere won hose,.\"\n",
      "\"\n",
      "This tis and hir wout an he te wese and wire sir on ha toad tothe sad wote ha whe he tote han\n",
      " afe alt ans at toring we tis tat thare her\n"
     ]
    }
   ],
   "source": [
    "checkpoint = 'checkpoints/i200_l512.ckpt'\n",
    "samp = sample(checkpoint, 1000, lstm_size, len(vocab), prime=\"Far\")\n",
    "print(samp)"
   ]
  },
  {
   "cell_type": "code",
   "execution_count": 23,
   "metadata": {},
   "outputs": [
    {
     "name": "stdout",
     "output_type": "stream",
     "text": [
      "INFO:tensorflow:Restoring parameters from checkpoints/i600_l512.ckpt\n",
      "Farly shand has soold with\n",
      "thithing of has he had saig to she this and at his and so her onteres woth her sound him to sting of thouls wat him till and a stonte thit him, he woud not and hore and here to the sorned, the coull tan in to him,\n",
      "and the carest and the stowtion at he sas and there whet woud and was all the pare alout of the pass of thither her he wind was her alowh on a taide with his tornen and said out tha come on that the had\n",
      "the sould he hed his bast her to hins to had and a casping and how thet so she bust her had been and were at this some on has her the pisite of the sarest and to thuthe he her suile, him saed her\n",
      "that walk as this wos word\n",
      "of that wish whe hid had have\n",
      "as in ond the pare and his worn the pirsestion of the comes and\n",
      "and her\n",
      "sald of\n",
      "ellesters the perstaon the soming and wonder with had shat in her has boughing, his, beed his her ther werl as inselesed off the coully of and has ant woulds in one to he sould but hars he sade of that the sactition an would a \n"
     ]
    }
   ],
   "source": [
    "checkpoint = 'checkpoints/i600_l512.ckpt'\n",
    "samp = sample(checkpoint, 1000, lstm_size, len(vocab), prime=\"Far\")\n",
    "print(samp)"
   ]
  },
  {
   "cell_type": "code",
   "execution_count": 24,
   "metadata": {},
   "outputs": [
    {
     "name": "stdout",
     "output_type": "stream",
     "text": [
      "INFO:tensorflow:Restoring parameters from checkpoints/i1200_l512.ckpt\n",
      "Farrons. The whent the partion of the sume takne termed inte his\n",
      "stort, he was not her his all see of which the batter, she was an undisiant him husbadd his wonters of his hustand her hand and with the\n",
      "crunge in the\n",
      "partation, with his fooking to the theether with which shilk that the canreal of the cain of the\n",
      "person whether the meating to him to this thought. And he was so tell,\n",
      "and talked about his house of the\n",
      "concees of the cale, she was begin the proness of\n",
      "she was there to him onter, who were a strable\n",
      "wes and\n",
      "took in her.\n",
      "\n",
      "\"The prince and all so to him. Thene say that see you a mosted all stept in the pastion and say take that.. Why, a moment in the sonse that I where had\n",
      "not the same to her\n",
      "about his carriate and a lovere of horse...\"\n",
      " \"Oh, wen and how the love on the merely interestled, and she said her heat and are any mush the sare think, and the\n",
      "peiplicily and a posincing it, at the serest of her say with the warding, at intimant.\"\n",
      "\n",
      "\"Oh so sure the ceetions of a more to some,\"\n"
     ]
    }
   ],
   "source": [
    "checkpoint = 'checkpoints/i1200_l512.ckpt'\n",
    "samp = sample(checkpoint, 1000, lstm_size, len(vocab), prime=\"Far\")\n",
    "print(samp)"
   ]
  }
 ],
 "metadata": {
  "kernelspec": {
   "display_name": "Python 3",
   "language": "python",
   "name": "python3"
  },
  "language_info": {
   "codemirror_mode": {
    "name": "ipython",
    "version": 3
   },
   "file_extension": ".py",
   "mimetype": "text/x-python",
   "name": "python",
   "nbconvert_exporter": "python",
   "pygments_lexer": "ipython3",
   "version": "3.5.4"
  }
 },
 "nbformat": 4,
 "nbformat_minor": 2
}
